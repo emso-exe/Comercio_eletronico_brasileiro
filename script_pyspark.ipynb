{
 "cells": [
  {
   "attachments": {},
   "cell_type": "markdown",
   "metadata": {},
   "source": [
    "## Análise de dados: Comércio eletrônico brasileiro\n",
    "\n",
    "Este projeto é composto por um conjunto de dados públicos de comércio eletrônico brasileiro, disponibilizados pelo site Olist, são registros que compõem todo o processo de venda de um produto, da compra, pagamento, entrega e avaliação, além de dados de geolocalização, produtos e vendedores. Estas informações serão tratadas e analisadas, de modo a responder questões de negócio.\n"
   ]
  },
  {
   "attachments": {},
   "cell_type": "markdown",
   "metadata": {},
   "source": [
    "### Importação de bibliotecas"
   ]
  },
  {
   "cell_type": "code",
   "execution_count": 38,
   "metadata": {},
   "outputs": [],
   "source": [
    "from pyspark.sql import SparkSession\n",
    "from pyspark.sql.functions import col, count, desc, sum, hour\n"
   ]
  },
  {
   "attachments": {},
   "cell_type": "markdown",
   "metadata": {},
   "source": [
    "### Criação e iniciação de uma sessão Spark"
   ]
  },
  {
   "cell_type": "code",
   "execution_count": 39,
   "metadata": {},
   "outputs": [
    {
     "data": {
      "text/html": [
       "\n",
       "            <div>\n",
       "                <p><b>SparkSession - in-memory</b></p>\n",
       "                \n",
       "        <div>\n",
       "            <p><b>SparkContext</b></p>\n",
       "\n",
       "            <p><a href=\"http://rootx:4040\">Spark UI</a></p>\n",
       "\n",
       "            <dl>\n",
       "              <dt>Version</dt>\n",
       "                <dd><code>v3.4.0</code></dd>\n",
       "              <dt>Master</dt>\n",
       "                <dd><code>local[*]</code></dd>\n",
       "              <dt>AppName</dt>\n",
       "                <dd><code>PySpark - Olist</code></dd>\n",
       "            </dl>\n",
       "        </div>\n",
       "        \n",
       "            </div>\n",
       "        "
      ],
      "text/plain": [
       "<pyspark.sql.session.SparkSession at 0x1ca60410250>"
      ]
     },
     "execution_count": 39,
     "metadata": {},
     "output_type": "execute_result"
    }
   ],
   "source": [
    "\n",
    "appName = 'PySpark - Olist'\n",
    "\n",
    "spark = SparkSession.builder \\\n",
    "    .appName('PySpark - Olist') \\\n",
    "    .config('spark.driver.memory', '8g') \\\n",
    "    .config('spark.driver.cores', '2') \\\n",
    "    .config('spark.executor.memory', '8g') \\\n",
    "    .config('spark.executor.cores', '4') \\\n",
    "    .getOrCreate()\n",
    "\n",
    "spark.sparkContext.setLogLevel(\"ERROR\")\n",
    "\n",
    "spark\n"
   ]
  },
  {
   "attachments": {},
   "cell_type": "markdown",
   "metadata": {},
   "source": [
    "### Criação dos datasets a partir da leitura dos arquivos *.csv\n"
   ]
  },
  {
   "cell_type": "code",
   "execution_count": 40,
   "metadata": {},
   "outputs": [],
   "source": [
    "df_orders = spark.read.csv('dados\\olist_orders_dataset.csv', sep=',', header=True, \n",
    "                           encoding='utf-8', inferSchema=True)\n",
    "df_customers = spark.read.csv('dados\\olist_customers_dataset.csv', sep=',', header=True, \n",
    "                              encoding='utf-8', inferSchema=True)\n",
    "df_geolocation = spark.read.csv('dados\\olist_geolocation_dataset.csv', sep=',', header=True, \n",
    "                                encoding='utf-8', inferSchema=True)\n",
    "df_order_items = spark.read.csv('dados\\olist_order_items_dataset.csv', sep=',', header=True, \n",
    "                                encoding='utf-8', inferSchema=True)\n",
    "df_order_payments = spark.read.csv('dados\\olist_order_payments_dataset.csv', sep=',', header=True, \n",
    "                                   encoding='utf-8', inferSchema=True)\n",
    "df_order_reviews = spark.read.csv('dados\\olist_order_reviews_dataset.csv', sep=',', header=True, \n",
    "                                  encoding='utf-8', inferSchema=True, \n",
    "                                  multiLine=True, ignoreLeadingWhiteSpace=True, escape='\"', quote='\"')\n",
    "df_products = spark.read.csv('dados\\olist_products_dataset.csv', sep=',', header=True, \n",
    "                             encoding='utf-8', inferSchema=True)\n",
    "df_sellers = spark.read.csv('dados\\olist_sellers_dataset.csv', sep=',', header=True, \n",
    "                            encoding='utf-8', inferSchema=True)"
   ]
  },
  {
   "attachments": {},
   "cell_type": "markdown",
   "metadata": {},
   "source": [
    "### Verificando os tipos das colunas"
   ]
  },
  {
   "cell_type": "code",
   "execution_count": 41,
   "metadata": {},
   "outputs": [
    {
     "name": "stdout",
     "output_type": "stream",
     "text": [
      "root\n",
      " |-- order_id: string (nullable = true)\n",
      " |-- customer_id: string (nullable = true)\n",
      " |-- order_status: string (nullable = true)\n",
      " |-- order_purchase_timestamp: timestamp (nullable = true)\n",
      " |-- order_approved_at: timestamp (nullable = true)\n",
      " |-- order_delivered_carrier_date: timestamp (nullable = true)\n",
      " |-- order_delivered_customer_date: timestamp (nullable = true)\n",
      " |-- order_estimated_delivery_date: timestamp (nullable = true)\n",
      "\n"
     ]
    }
   ],
   "source": [
    "df_orders.printSchema()"
   ]
  },
  {
   "cell_type": "code",
   "execution_count": 42,
   "metadata": {},
   "outputs": [
    {
     "name": "stdout",
     "output_type": "stream",
     "text": [
      "root\n",
      " |-- customer_id: string (nullable = true)\n",
      " |-- customer_unique_id: string (nullable = true)\n",
      " |-- customer_zip_code_prefix: integer (nullable = true)\n",
      " |-- customer_city: string (nullable = true)\n",
      " |-- customer_state: string (nullable = true)\n",
      "\n"
     ]
    }
   ],
   "source": [
    "df_customers.printSchema()"
   ]
  },
  {
   "cell_type": "code",
   "execution_count": 43,
   "metadata": {},
   "outputs": [
    {
     "name": "stdout",
     "output_type": "stream",
     "text": [
      "root\n",
      " |-- geolocation_zip_code_prefix: integer (nullable = true)\n",
      " |-- geolocation_lat: double (nullable = true)\n",
      " |-- geolocation_lng: double (nullable = true)\n",
      " |-- geolocation_city: string (nullable = true)\n",
      " |-- geolocation_state: string (nullable = true)\n",
      "\n"
     ]
    }
   ],
   "source": [
    "df_geolocation.printSchema()"
   ]
  },
  {
   "cell_type": "code",
   "execution_count": 44,
   "metadata": {},
   "outputs": [
    {
     "name": "stdout",
     "output_type": "stream",
     "text": [
      "root\n",
      " |-- order_id: string (nullable = true)\n",
      " |-- order_item_id: integer (nullable = true)\n",
      " |-- product_id: string (nullable = true)\n",
      " |-- seller_id: string (nullable = true)\n",
      " |-- shipping_limit_date: timestamp (nullable = true)\n",
      " |-- price: double (nullable = true)\n",
      " |-- freight_value: double (nullable = true)\n",
      "\n"
     ]
    }
   ],
   "source": [
    "df_order_items.printSchema()"
   ]
  },
  {
   "cell_type": "code",
   "execution_count": 45,
   "metadata": {},
   "outputs": [
    {
     "name": "stdout",
     "output_type": "stream",
     "text": [
      "root\n",
      " |-- order_id: string (nullable = true)\n",
      " |-- payment_sequential: integer (nullable = true)\n",
      " |-- payment_type: string (nullable = true)\n",
      " |-- payment_installments: integer (nullable = true)\n",
      " |-- payment_value: double (nullable = true)\n",
      "\n"
     ]
    }
   ],
   "source": [
    "df_order_payments.printSchema()"
   ]
  },
  {
   "cell_type": "code",
   "execution_count": 46,
   "metadata": {},
   "outputs": [
    {
     "name": "stdout",
     "output_type": "stream",
     "text": [
      "root\n",
      " |-- review_id: string (nullable = true)\n",
      " |-- order_id: string (nullable = true)\n",
      " |-- review_score: integer (nullable = true)\n",
      " |-- review_comment_title: string (nullable = true)\n",
      " |-- review_comment_message: string (nullable = true)\n",
      " |-- review_creation_date: timestamp (nullable = true)\n",
      " |-- review_answer_timestamp: timestamp (nullable = true)\n",
      "\n"
     ]
    }
   ],
   "source": [
    "df_order_reviews.printSchema()"
   ]
  },
  {
   "cell_type": "code",
   "execution_count": 47,
   "metadata": {},
   "outputs": [
    {
     "name": "stdout",
     "output_type": "stream",
     "text": [
      "root\n",
      " |-- product_id: string (nullable = true)\n",
      " |-- product_category_name: string (nullable = true)\n",
      " |-- product_name_lenght: integer (nullable = true)\n",
      " |-- product_description_lenght: integer (nullable = true)\n",
      " |-- product_photos_qty: integer (nullable = true)\n",
      " |-- product_weight_g: integer (nullable = true)\n",
      " |-- product_length_cm: integer (nullable = true)\n",
      " |-- product_height_cm: integer (nullable = true)\n",
      " |-- product_width_cm: integer (nullable = true)\n",
      "\n"
     ]
    }
   ],
   "source": [
    "df_products.printSchema()"
   ]
  },
  {
   "cell_type": "code",
   "execution_count": 48,
   "metadata": {},
   "outputs": [
    {
     "name": "stdout",
     "output_type": "stream",
     "text": [
      "root\n",
      " |-- seller_id: string (nullable = true)\n",
      " |-- seller_zip_code_prefix: integer (nullable = true)\n",
      " |-- seller_city: string (nullable = true)\n",
      " |-- seller_state: string (nullable = true)\n",
      "\n"
     ]
    }
   ],
   "source": [
    "df_sellers.printSchema()"
   ]
  },
  {
   "attachments": {},
   "cell_type": "markdown",
   "metadata": {},
   "source": [
    "### Verificando a existência de registros nulos"
   ]
  },
  {
   "cell_type": "code",
   "execution_count": 49,
   "metadata": {},
   "outputs": [],
   "source": [
    "def check_nulls(dataframe, name) -> None:\n",
    "    '''\n",
    "    Verifica e exibe a quantidade de valores nulos em cada coluna do dataframe.\n",
    "\n",
    "    :param dataframe: DataFrame\n",
    "        Dataframe a ser analisado.\n",
    "    :param name: str\n",
    "        Nome identificando o dataframe para exibição na saída.\n",
    "    '''\n",
    "    print(f'\\n{name.upper()} { \"-\" * (100 - len(name))}')\n",
    "    for coluna in dataframe.columns:\n",
    "        qty = dataframe.filter(dataframe[coluna].isNull()).count()\n",
    "        if qty >= 1:\n",
    "            print(f'{coluna}: {qty}')\n"
   ]
  },
  {
   "cell_type": "code",
   "execution_count": 50,
   "metadata": {},
   "outputs": [
    {
     "name": "stdout",
     "output_type": "stream",
     "text": [
      "\n",
      "DF_ORDERS -------------------------------------------------------------------------------------------\n",
      "order_approved_at: 160\n",
      "order_delivered_carrier_date: 1783\n",
      "order_delivered_customer_date: 2965\n",
      "\n",
      "DF_CUSTOMERS ----------------------------------------------------------------------------------------\n",
      "\n",
      "DF_GEOLOCATION --------------------------------------------------------------------------------------\n",
      "\n",
      "DF_ORDER_ITEMS --------------------------------------------------------------------------------------\n",
      "\n",
      "DF_ORDER_PAYMENTS -----------------------------------------------------------------------------------\n",
      "\n",
      "DF_ORDER_REVIEWS ------------------------------------------------------------------------------------\n",
      "review_comment_title: 87658\n",
      "review_comment_message: 58256\n",
      "\n",
      "DF_PRODUCTS -----------------------------------------------------------------------------------------\n",
      "product_category_name: 610\n",
      "product_name_lenght: 610\n",
      "product_description_lenght: 610\n",
      "product_photos_qty: 610\n",
      "product_weight_g: 2\n",
      "product_length_cm: 2\n",
      "product_height_cm: 2\n",
      "product_width_cm: 2\n",
      "\n",
      "DF_SELLERS ------------------------------------------------------------------------------------------\n"
     ]
    }
   ],
   "source": [
    "check_nulls(df_orders, 'df_orders')\n",
    "check_nulls(df_customers, 'df_customers')\n",
    "check_nulls(df_geolocation, 'df_geolocation')\n",
    "check_nulls(df_order_items, 'df_order_items')\n",
    "check_nulls(df_order_payments, 'df_order_payments')\n",
    "check_nulls(df_order_reviews, 'df_order_reviews')\n",
    "check_nulls(df_products, 'df_products')\n",
    "check_nulls(df_sellers, 'df_sellers')\n"
   ]
  },
  {
   "attachments": {},
   "cell_type": "markdown",
   "metadata": {},
   "source": [
    "\n",
    "Foram identificados valores nulos em 3 dataframes, df_orders, df_order_reviews e df_products, entretando no caso de **df_orders** os dados representam operações de venda, logo possui vários estágios podendo ser uma venda concluída, cancelada, processamento ou mesmo em trânsito, ou seja, dependendo do estágio algumas colunas podem ficarem vazias (nulas), em **df_order_reviews** há campos com reviews dos compradores sobre suas compras, não é obrigatório um cliente escrever um review e em **df_products** há produtos com nome e descrição ausentes, porém constam em pedidos de clientes."
   ]
  },
  {
   "attachments": {},
   "cell_type": "markdown",
   "metadata": {},
   "source": [
    "### Verificando a existência de registros duplicados"
   ]
  },
  {
   "cell_type": "code",
   "execution_count": 51,
   "metadata": {},
   "outputs": [],
   "source": [
    "def check_duplicates(dataframe, fields) -> None:\n",
    "    '''\n",
    "    Verifica e exibe uma amostra de 5 registros duplicados com base em um ou mais campos especificados.\n",
    "\n",
    "    :param dataframe: DataFrame\n",
    "        Dataframe a ser analisado.\n",
    "    :param fields: str ou list de str\n",
    "        Nome do campo ou lista de campos a serem usados como referência para identificar duplicatas.\n",
    "    '''\n",
    "    duplicate = dataframe.groupBy(fields) \\\n",
    "        .agg(count('*').alias('qty')) \\\n",
    "        .where(col('qty') > 1) \\\n",
    "        .orderBy(desc('qty'))   \n",
    "    duplicate.show(5, truncate=False)"
   ]
  },
  {
   "cell_type": "code",
   "execution_count": 52,
   "metadata": {},
   "outputs": [
    {
     "name": "stdout",
     "output_type": "stream",
     "text": [
      "+--------------------------------+---+\n",
      "|customer_unique_id              |qty|\n",
      "+--------------------------------+---+\n",
      "|8d50f5eadf50201ccdcedfb9e2ac8455|17 |\n",
      "|3e43e6105506432c953e165fb2acf44c|9  |\n",
      "|ca77025e7201e3b30c44b472ff346268|7  |\n",
      "|1b6c7548a2a1f9037c1fd3ddfed95f33|7  |\n",
      "|6469f99c1f9dfae7733b25662e7f1782|7  |\n",
      "+--------------------------------+---+\n",
      "only showing top 5 rows\n",
      "\n"
     ]
    }
   ],
   "source": [
    "check_duplicates(df_customers, 'customer_unique_id')"
   ]
  },
  {
   "attachments": {},
   "cell_type": "markdown",
   "metadata": {},
   "source": [
    "Em **df_customers** existem dados duplicados na coluna _customer_unique_id_, porém conforme a descrição da tabela no site Kaggle está correto conforme regra estabelecida pela Olist, basicamente esse campo permite que se identifique clientes que fizeram recompras."
   ]
  },
  {
   "cell_type": "code",
   "execution_count": 53,
   "metadata": {},
   "outputs": [
    {
     "name": "stdout",
     "output_type": "stream",
     "text": [
      "+-------------------+------------------+---+\n",
      "|geolocation_lat    |geolocation_lng   |qty|\n",
      "+-------------------+------------------+---+\n",
      "|-27.102098999999946|-48.62961349999995|314|\n",
      "|-23.495901469908656|-46.87468669635919|190|\n",
      "|-23.506049208479613|-46.71737739541604|141|\n",
      "|-23.490617505282753|-46.86900366603934|127|\n",
      "|-23.00551425914832 |-43.37596441256672|102|\n",
      "+-------------------+------------------+---+\n",
      "only showing top 5 rows\n",
      "\n"
     ]
    }
   ],
   "source": [
    "check_duplicates(df_geolocation, ['geolocation_lat', 'geolocation_lng'])"
   ]
  },
  {
   "cell_type": "code",
   "execution_count": 54,
   "metadata": {},
   "outputs": [
    {
     "name": "stdout",
     "output_type": "stream",
     "text": [
      "+---------------------------+-------------------+-------------------+----------------+-----------------+\n",
      "|geolocation_zip_code_prefix|geolocation_lat    |geolocation_lng    |geolocation_city|geolocation_state|\n",
      "+---------------------------+-------------------+-------------------+----------------+-----------------+\n",
      "|1020                       |-23.551247650297142|-46.628331542472104|sao paulo       |SP               |\n",
      "|1015                       |-23.548031800450076|-46.63357615958799 |sao paulo       |SP               |\n",
      "|1033                       |-23.54077242862274 |-46.63658627751788 |são paulo       |SP               |\n",
      "|1122                       |-23.529995958364616|-46.64040623812689 |sao paulo       |SP               |\n",
      "|1103                       |-23.539337475993985|-46.62899422217096 |são paulo       |SP               |\n",
      "+---------------------------+-------------------+-------------------+----------------+-----------------+\n",
      "only showing top 5 rows\n",
      "\n"
     ]
    }
   ],
   "source": [
    "df_geolocation = df_geolocation.dropDuplicates()\n",
    "        \n",
    "df_geolocation.show(5, truncate=False)"
   ]
  },
  {
   "attachments": {},
   "cell_type": "markdown",
   "metadata": {},
   "source": [
    "Existiam linhas duplicadas em **df_geolocation**, porém nesse dataframe não há uma coluna com um identificador exclusivo para cada linha então foi criada uma tabela com os dados exclusivos baseado nas colunas _geolocation_lat_ e _geolocation_lng_ e substituído dataframe anterior."
   ]
  },
  {
   "cell_type": "code",
   "execution_count": 55,
   "metadata": {},
   "outputs": [
    {
     "name": "stdout",
     "output_type": "stream",
     "text": [
      "+--------------------------------+---+\n",
      "|order_id                        |qty|\n",
      "+--------------------------------+---+\n",
      "|8272b63d03f5f79c56e9e4120aec44ef|21 |\n",
      "|1b15974a0141d54e36626dca3fdc731a|20 |\n",
      "|ab14fdcfbe524636d65ee38360e22ce8|20 |\n",
      "|428a2f660dc84138d969ccd69a0ab6d5|15 |\n",
      "|9ef13efd6949e4573a18964dd1bbe7f5|15 |\n",
      "+--------------------------------+---+\n",
      "only showing top 5 rows\n",
      "\n"
     ]
    }
   ],
   "source": [
    "check_duplicates(df_order_items, 'order_id')"
   ]
  },
  {
   "attachments": {},
   "cell_type": "markdown",
   "metadata": {},
   "source": [
    "Há linhas duplicadas em **df_order_items**, este dataframe contêm os itens que compõem uma compra, logo uma ordem de venda pode conter um ou vários produtos distintos ou não, portanto não há necessidade de efetuar qualquer ajuste."
   ]
  },
  {
   "cell_type": "code",
   "execution_count": 56,
   "metadata": {},
   "outputs": [
    {
     "name": "stdout",
     "output_type": "stream",
     "text": [
      "+--------------------------------+---+\n",
      "|order_id                        |qty|\n",
      "+--------------------------------+---+\n",
      "|fa65dad1b0e818e3ccc5cb0e39231352|29 |\n",
      "|ccf804e764ed5650cd8759557269dc13|26 |\n",
      "|285c2e15bebd4ac83635ccc563dc71f4|22 |\n",
      "|895ab968e7bb0d5659d16cd74cd1650c|21 |\n",
      "|ee9ca989fc93ba09a6eddc250ce01742|19 |\n",
      "+--------------------------------+---+\n",
      "only showing top 5 rows\n",
      "\n"
     ]
    }
   ],
   "source": [
    "check_duplicates(df_order_payments, 'order_id')"
   ]
  },
  {
   "attachments": {},
   "cell_type": "markdown",
   "metadata": {},
   "source": [
    "O dataframe **df_order_payments** consiste na cadastro de meios de pagamentos, parcelas (quando aplicável), então uma ordem de venda pode ser com uma ou várias formas de pagamento e estas podem ser parceladas em várias vezes, nenhuma alteração executada."
   ]
  },
  {
   "cell_type": "code",
   "execution_count": 57,
   "metadata": {},
   "outputs": [
    {
     "name": "stdout",
     "output_type": "stream",
     "text": [
      "+--------------------------------+---+\n",
      "|order_id                        |qty|\n",
      "+--------------------------------+---+\n",
      "|df56136b8031ecd28e200bb18e6ddb2e|3  |\n",
      "|8e17072ec97ce29f0e1f111e598b0c85|3  |\n",
      "|03c939fd7fd3b38f8485a0f95798f1f6|3  |\n",
      "|c88b1d1b157a9999ce368f218a407141|3  |\n",
      "|f63a31c3349b87273468ff7e66852056|2  |\n",
      "+--------------------------------+---+\n",
      "only showing top 5 rows\n",
      "\n"
     ]
    }
   ],
   "source": [
    "check_duplicates(df_order_reviews, 'order_id')"
   ]
  },
  {
   "attachments": {},
   "cell_type": "markdown",
   "metadata": {},
   "source": [
    "Após a conclusão da entrega do pedido o cliente recebe um e-mail convidando a efetuar uma avaliação, entretanto tanto o título quanto o mensagem da review são opcionais. Apesar de existirem pedidos com mais de uma avaliação os demais campos apresentam notas reviews, data e horas distintas, são essas informações que alimentam o dataframe **df_order_reviews**. Não foram feitas alterações."
   ]
  },
  {
   "cell_type": "code",
   "execution_count": 58,
   "metadata": {},
   "outputs": [
    {
     "name": "stdout",
     "output_type": "stream",
     "text": [
      "+--------+---+\n",
      "|order_id|qty|\n",
      "+--------+---+\n",
      "+--------+---+\n",
      "\n"
     ]
    }
   ],
   "source": [
    "check_duplicates(df_orders, 'order_id')"
   ]
  },
  {
   "attachments": {},
   "cell_type": "markdown",
   "metadata": {},
   "source": [
    "Um cliente pode efetuar um ou várias compras e que podem estar em várias estágios desde a criação da ordem até a sua entrega, ainda entre esses estágios algum outro processo pode determinar a continuidade da venda ou não, resultando em por exemplo o cancelamento, sendo assim pode ocorrer de existir registros de operações de venda ainda não concluídos, estas são as informaçõe que compõem o **df_orders**."
   ]
  },
  {
   "cell_type": "code",
   "execution_count": 59,
   "metadata": {},
   "outputs": [
    {
     "name": "stdout",
     "output_type": "stream",
     "text": [
      "+----------+---+\n",
      "|product_id|qty|\n",
      "+----------+---+\n",
      "+----------+---+\n",
      "\n"
     ]
    }
   ],
   "source": [
    "check_duplicates(df_products, 'product_id')"
   ]
  },
  {
   "attachments": {},
   "cell_type": "markdown",
   "metadata": {},
   "source": [
    "O dataframe **df_products** contém o cadastro de produtos, descrição, dimensões, entre outras informações."
   ]
  },
  {
   "cell_type": "code",
   "execution_count": 60,
   "metadata": {},
   "outputs": [
    {
     "name": "stdout",
     "output_type": "stream",
     "text": [
      "+---------+---+\n",
      "|seller_id|qty|\n",
      "+---------+---+\n",
      "+---------+---+\n",
      "\n"
     ]
    }
   ],
   "source": [
    "check_duplicates(df_sellers, 'seller_id')"
   ]
  },
  {
   "attachments": {},
   "cell_type": "markdown",
   "metadata": {},
   "source": [
    "O dataframe **df_sellers** contém o cadastro de vendedores e sua localização (cep, cidade e estado)."
   ]
  },
  {
   "attachments": {},
   "cell_type": "markdown",
   "metadata": {},
   "source": [
    "### Criando views temporárias para uso do Spark SQL"
   ]
  },
  {
   "cell_type": "code",
   "execution_count": 61,
   "metadata": {},
   "outputs": [],
   "source": [
    "df_orders.createOrReplaceTempView('tb_orders')\n",
    "df_customers.createOrReplaceTempView('tb_customers')\n",
    "df_geolocation.createOrReplaceTempView('tb_geolocation')\n",
    "df_order_items.createOrReplaceTempView('tb_order_items')\n",
    "df_order_payments.createOrReplaceTempView('tb_order_payments')\n",
    "df_order_reviews.createOrReplaceTempView('tb_order_reviews')\n",
    "df_products.createOrReplaceTempView('tb_products')\n",
    "df_sellers.createOrReplaceTempView('tb_sellers')\n"
   ]
  },
  {
   "attachments": {},
   "cell_type": "markdown",
   "metadata": {},
   "source": [
    "### Criando views SQL temporárias "
   ]
  },
  {
   "cell_type": "code",
   "execution_count": 62,
   "metadata": {},
   "outputs": [
    {
     "ename": "AnalysisException",
     "evalue": "[TEMP_TABLE_OR_VIEW_ALREADY_EXISTS] Cannot create the temporary view `vw_order_costumer` because it already exists.\nChoose a different name, drop or replace the existing view,  or add the IF NOT EXISTS clause to tolerate pre-existing views.",
     "output_type": "error",
     "traceback": [
      "\u001b[1;31m---------------------------------------------------------------------------\u001b[0m",
      "\u001b[1;31mAnalysisException\u001b[0m                         Traceback (most recent call last)",
      "Cell \u001b[1;32mIn[62], line 1\u001b[0m\n\u001b[1;32m----> 1\u001b[0m spark\u001b[39m.\u001b[39;49msql(\u001b[39m'''\u001b[39;49m\n\u001b[0;32m      2\u001b[0m \u001b[39m    CREATE TEMP VIEW vw_order_costumer AS \u001b[39;49m\n\u001b[0;32m      3\u001b[0m \u001b[39m    SELECT \u001b[39;49m\n\u001b[0;32m      4\u001b[0m \u001b[39m        oo.customer_id,\u001b[39;49m\n\u001b[0;32m      5\u001b[0m \u001b[39m        oo.order_id,\u001b[39;49m\n\u001b[0;32m      6\u001b[0m \u001b[39m        cc.customer_unique_id,\u001b[39;49m\n\u001b[0;32m      7\u001b[0m \u001b[39m        cc.customer_city,\u001b[39;49m\n\u001b[0;32m      8\u001b[0m \u001b[39m        cc.customer_state        \u001b[39;49m\n\u001b[0;32m      9\u001b[0m \u001b[39m    FROM tb_orders oo\u001b[39;49m\n\u001b[0;32m     10\u001b[0m \u001b[39m    INNER JOIN tb_customers cc \u001b[39;49m\n\u001b[0;32m     11\u001b[0m \u001b[39m    ON cc.customer_id = oo.customer_id;\u001b[39;49m\n\u001b[0;32m     12\u001b[0m \u001b[39m'''\u001b[39;49m)\n",
      "File \u001b[1;32mc:\\Python\\Lib\\site-packages\\pyspark\\sql\\session.py:1440\u001b[0m, in \u001b[0;36mSparkSession.sql\u001b[1;34m(self, sqlQuery, args, **kwargs)\u001b[0m\n\u001b[0;32m   1438\u001b[0m \u001b[39mtry\u001b[39;00m:\n\u001b[0;32m   1439\u001b[0m     litArgs \u001b[39m=\u001b[39m {k: _to_java_column(lit(v)) \u001b[39mfor\u001b[39;00m k, v \u001b[39min\u001b[39;00m (args \u001b[39mor\u001b[39;00m {})\u001b[39m.\u001b[39mitems()}\n\u001b[1;32m-> 1440\u001b[0m     \u001b[39mreturn\u001b[39;00m DataFrame(\u001b[39mself\u001b[39;49m\u001b[39m.\u001b[39;49m_jsparkSession\u001b[39m.\u001b[39;49msql(sqlQuery, litArgs), \u001b[39mself\u001b[39m)\n\u001b[0;32m   1441\u001b[0m \u001b[39mfinally\u001b[39;00m:\n\u001b[0;32m   1442\u001b[0m     \u001b[39mif\u001b[39;00m \u001b[39mlen\u001b[39m(kwargs) \u001b[39m>\u001b[39m \u001b[39m0\u001b[39m:\n",
      "File \u001b[1;32mc:\\Python\\Lib\\site-packages\\py4j\\java_gateway.py:1322\u001b[0m, in \u001b[0;36mJavaMember.__call__\u001b[1;34m(self, *args)\u001b[0m\n\u001b[0;32m   1316\u001b[0m command \u001b[39m=\u001b[39m proto\u001b[39m.\u001b[39mCALL_COMMAND_NAME \u001b[39m+\u001b[39m\\\n\u001b[0;32m   1317\u001b[0m     \u001b[39mself\u001b[39m\u001b[39m.\u001b[39mcommand_header \u001b[39m+\u001b[39m\\\n\u001b[0;32m   1318\u001b[0m     args_command \u001b[39m+\u001b[39m\\\n\u001b[0;32m   1319\u001b[0m     proto\u001b[39m.\u001b[39mEND_COMMAND_PART\n\u001b[0;32m   1321\u001b[0m answer \u001b[39m=\u001b[39m \u001b[39mself\u001b[39m\u001b[39m.\u001b[39mgateway_client\u001b[39m.\u001b[39msend_command(command)\n\u001b[1;32m-> 1322\u001b[0m return_value \u001b[39m=\u001b[39m get_return_value(\n\u001b[0;32m   1323\u001b[0m     answer, \u001b[39mself\u001b[39;49m\u001b[39m.\u001b[39;49mgateway_client, \u001b[39mself\u001b[39;49m\u001b[39m.\u001b[39;49mtarget_id, \u001b[39mself\u001b[39;49m\u001b[39m.\u001b[39;49mname)\n\u001b[0;32m   1325\u001b[0m \u001b[39mfor\u001b[39;00m temp_arg \u001b[39min\u001b[39;00m temp_args:\n\u001b[0;32m   1326\u001b[0m     \u001b[39mif\u001b[39;00m \u001b[39mhasattr\u001b[39m(temp_arg, \u001b[39m\"\u001b[39m\u001b[39m_detach\u001b[39m\u001b[39m\"\u001b[39m):\n",
      "File \u001b[1;32mc:\\Python\\Lib\\site-packages\\pyspark\\errors\\exceptions\\captured.py:175\u001b[0m, in \u001b[0;36mcapture_sql_exception.<locals>.deco\u001b[1;34m(*a, **kw)\u001b[0m\n\u001b[0;32m    171\u001b[0m converted \u001b[39m=\u001b[39m convert_exception(e\u001b[39m.\u001b[39mjava_exception)\n\u001b[0;32m    172\u001b[0m \u001b[39mif\u001b[39;00m \u001b[39mnot\u001b[39;00m \u001b[39misinstance\u001b[39m(converted, UnknownException):\n\u001b[0;32m    173\u001b[0m     \u001b[39m# Hide where the exception came from that shows a non-Pythonic\u001b[39;00m\n\u001b[0;32m    174\u001b[0m     \u001b[39m# JVM exception message.\u001b[39;00m\n\u001b[1;32m--> 175\u001b[0m     \u001b[39mraise\u001b[39;00m converted \u001b[39mfrom\u001b[39;00m \u001b[39mNone\u001b[39m\n\u001b[0;32m    176\u001b[0m \u001b[39melse\u001b[39;00m:\n\u001b[0;32m    177\u001b[0m     \u001b[39mraise\u001b[39;00m\n",
      "\u001b[1;31mAnalysisException\u001b[0m: [TEMP_TABLE_OR_VIEW_ALREADY_EXISTS] Cannot create the temporary view `vw_order_costumer` because it already exists.\nChoose a different name, drop or replace the existing view,  or add the IF NOT EXISTS clause to tolerate pre-existing views."
     ]
    }
   ],
   "source": [
    "spark.sql('''\n",
    "    CREATE TEMP VIEW vw_order_costumer AS \n",
    "    SELECT \n",
    "        oo.customer_id,\n",
    "        oo.order_id,\n",
    "        cc.customer_unique_id,\n",
    "        cc.customer_city,\n",
    "        cc.customer_state        \n",
    "    FROM tb_orders oo\n",
    "    INNER JOIN tb_customers cc \n",
    "    ON cc.customer_id = oo.customer_id;\n",
    "''')\n"
   ]
  },
  {
   "cell_type": "code",
   "execution_count": null,
   "metadata": {},
   "outputs": [
    {
     "data": {
      "text/plain": [
       "DataFrame[]"
      ]
     },
     "execution_count": 26,
     "metadata": {},
     "output_type": "execute_result"
    }
   ],
   "source": [
    "spark.sql('''\n",
    "    CREATE TEMP VIEW vw_price_freight AS \n",
    "        SELECT\n",
    "            cc.customer_city,\n",
    "            cc.customer_state,\n",
    "            oo.order_id,\n",
    "            oo.order_purchase_timestamp,\n",
    "            oi.price,\n",
    "            oi.freight_value\n",
    "        FROM tb_orders oo\n",
    "        INNER JOIN tb_customers cc \n",
    "        ON cc.customer_id = oo.customer_id\n",
    "        INNER JOIN tb_order_items oi \n",
    "        ON oi.order_id = oo.order_id;\n",
    "''')\n"
   ]
  },
  {
   "attachments": {},
   "cell_type": "markdown",
   "metadata": {},
   "source": [
    "### 01 - Qual o total(quantidade) de vendas divididas por estado?"
   ]
  },
  {
   "cell_type": "code",
   "execution_count": null,
   "metadata": {},
   "outputs": [
    {
     "name": "stdout",
     "output_type": "stream",
     "text": [
      "+--------------+---------------+\n",
      "|customer_state|amount_of_sales|\n",
      "+--------------+---------------+\n",
      "|SP            |41746          |\n",
      "|RJ            |12852          |\n",
      "|MG            |11635          |\n",
      "|RS            |5466           |\n",
      "|PR            |5045           |\n",
      "|SC            |3637           |\n",
      "|BA            |3380           |\n",
      "|DF            |2140           |\n",
      "|ES            |2033           |\n",
      "|GO            |2020           |\n",
      "|PE            |1652           |\n",
      "|CE            |1336           |\n",
      "|PA            |975            |\n",
      "|MT            |907            |\n",
      "|MA            |747            |\n",
      "|MS            |715            |\n",
      "|PB            |536            |\n",
      "|PI            |495            |\n",
      "|RN            |485            |\n",
      "|AL            |413            |\n",
      "|SE            |350            |\n",
      "|TO            |280            |\n",
      "|RO            |253            |\n",
      "|AM            |148            |\n",
      "|AC            |81             |\n",
      "|AP            |68             |\n",
      "|RR            |46             |\n",
      "+--------------+---------------+\n",
      "\n"
     ]
    }
   ],
   "source": [
    "spark.sql('''\n",
    "    SELECT \n",
    "        customer_state, \n",
    "        COUNT(order_id) amount_of_sales\n",
    "    FROM vw_order_costumer \n",
    "        GROUP BY \n",
    "            customer_state \n",
    "        ORDER BY \n",
    "            amount_of_sales DESC;\n",
    "''').show(31, truncate=False)\n"
   ]
  },
  {
   "attachments": {},
   "cell_type": "markdown",
   "metadata": {},
   "source": [
    "### 02 - Qual o total(valor) de vendas e fretes divididos por estado?"
   ]
  },
  {
   "cell_type": "code",
   "execution_count": null,
   "metadata": {},
   "outputs": [
    {
     "name": "stdout",
     "output_type": "stream",
     "text": [
      "+--------------+-----------+-------------+\n",
      "|customer_state|total_price|total_freight|\n",
      "+--------------+-----------+-------------+\n",
      "|SP            |5202955.05 |718723.07    |\n",
      "|RJ            |1824092.67 |305589.31    |\n",
      "|MG            |1585308.03 |270853.46    |\n",
      "|RS            |750304.02  |135522.74    |\n",
      "|PR            |683083.76  |117851.68    |\n",
      "|SC            |520553.34  |89660.26     |\n",
      "|BA            |511349.99  |100156.68    |\n",
      "|DF            |302603.94  |50625.50     |\n",
      "|GO            |294591.95  |53114.98     |\n",
      "|ES            |275037.31  |49764.60     |\n",
      "|PE            |262788.03  |59449.66     |\n",
      "|CE            |227254.71  |48351.59     |\n",
      "|PA            |178947.81  |38699.30     |\n",
      "|MT            |156453.53  |29715.43     |\n",
      "|MA            |119648.22  |31523.77     |\n",
      "|MS            |116812.64  |19144.03     |\n",
      "|PB            |115268.08  |25719.73     |\n",
      "|PI            |86914.08   |21218.20     |\n",
      "|RN            |83034.98   |18860.10     |\n",
      "|AL            |80314.81   |15914.59     |\n",
      "|SE            |58920.85   |14111.47     |\n",
      "|TO            |49621.74   |11732.68     |\n",
      "|RO            |46140.64   |11417.38     |\n",
      "|AM            |22356.84   |5478.89      |\n",
      "|AC            |15982.95   |3686.75      |\n",
      "|AP            |13474.30   |2788.50      |\n",
      "|RR            |7829.43    |2235.19      |\n",
      "+--------------+-----------+-------------+\n",
      "\n"
     ]
    }
   ],
   "source": [
    "spark.sql('''\n",
    "    SELECT\n",
    "        customer_state,\n",
    "        CAST(SUM (price) AS DECIMAL(10,2)) AS total_price,\n",
    "        CAST(SUM (freight_value) AS DECIMAL(10,2)) AS total_freight\n",
    "    FROM vw_price_freight\n",
    "        GROUP BY \n",
    "            customer_state\n",
    "        ORDER BY \n",
    "            total_price DESC;\n",
    "''').show(31, truncate=False)\n"
   ]
  },
  {
   "attachments": {},
   "cell_type": "markdown",
   "metadata": {},
   "source": [
    "### 03 - Qual o total(quantidade) e distribuição(%) de vendas por hora?"
   ]
  },
  {
   "cell_type": "code",
   "execution_count": null,
   "metadata": {},
   "outputs": [
    {
     "name": "stdout",
     "output_type": "stream",
     "text": [
      "+-------+---------------+----------+\n",
      "|hour_24|amount_per_hour|perc_score|\n",
      "+-------+---------------+----------+\n",
      "|00     |2394           |2.41      |\n",
      "|01     |1170           |1.18      |\n",
      "|02     |510            |0.51      |\n",
      "|03     |272            |0.27      |\n",
      "|04     |206            |0.21      |\n",
      "|05     |188            |0.19      |\n",
      "|06     |502            |0.50      |\n",
      "|07     |1231           |1.24      |\n",
      "|08     |2967           |2.98      |\n",
      "|09     |4785           |4.81      |\n",
      "|10     |6177           |6.21      |\n",
      "|11     |6578           |6.61      |\n",
      "|12     |5995           |6.03      |\n",
      "|13     |6518           |6.55      |\n",
      "|14     |6569           |6.61      |\n",
      "|15     |6454           |6.49      |\n",
      "|16     |6675           |6.71      |\n",
      "|17     |6150           |6.18      |\n",
      "|18     |5769           |5.80      |\n",
      "|19     |5982           |6.02      |\n",
      "|20     |6193           |6.23      |\n",
      "|21     |6217           |6.25      |\n",
      "|22     |5816           |5.85      |\n",
      "|23     |4123           |4.15      |\n",
      "+-------+---------------+----------+\n",
      "\n"
     ]
    }
   ],
   "source": [
    "spark.sql('''\n",
    "    SELECT\n",
    "        date_format(order_purchase_timestamp, 'HH') AS hour_24,\n",
    "        COUNT(order_id) AS amount_per_hour,\n",
    "        CAST(COUNT(*) * 100 / SUM(COUNT(*)) OVER() AS DECIMAL(10,2)) AS perc_score\n",
    "    FROM tb_orders\n",
    "        GROUP BY \n",
    "            hour_24\n",
    "        ORDER BY \n",
    "            hour_24;\n",
    "''').show(28, truncate=False)\n"
   ]
  },
  {
   "attachments": {},
   "cell_type": "markdown",
   "metadata": {},
   "source": [
    "### 04 - Qual a média(valor) de vendas por hora?"
   ]
  },
  {
   "cell_type": "code",
   "execution_count": null,
   "metadata": {},
   "outputs": [
    {
     "name": "stdout",
     "output_type": "stream",
     "text": [
      "+-------+---------+\n",
      "|hour_24|avg_total|\n",
      "+-------+---------+\n",
      "|00     |133.23   |\n",
      "|01     |129.77   |\n",
      "|02     |108.58   |\n",
      "|03     |132.06   |\n",
      "|04     |118.45   |\n",
      "|05     |119.76   |\n",
      "|06     |114.43   |\n",
      "|07     |125.03   |\n",
      "|08     |132.95   |\n",
      "|09     |143.59   |\n",
      "|10     |136.67   |\n",
      "|11     |134.11   |\n",
      "|12     |142.45   |\n",
      "|13     |134.92   |\n",
      "|14     |145.42   |\n",
      "|15     |141.20   |\n",
      "|16     |141.11   |\n",
      "|17     |137.41   |\n",
      "|18     |143.31   |\n",
      "|19     |138.95   |\n",
      "|20     |138.98   |\n",
      "|21     |135.71   |\n",
      "|22     |135.95   |\n",
      "|23     |128.60   |\n",
      "+-------+---------+\n",
      "\n"
     ]
    }
   ],
   "source": [
    "spark.sql('''\n",
    "    SELECT \n",
    "        hour_24,\n",
    "        CAST(AVG (sum_total) AS DECIMAL(10,2)) AS avg_total\n",
    "    FROM (\n",
    "            SELECT \n",
    "                oo.order_id, \n",
    "                date_format(order_purchase_timestamp, 'HH') AS hour_24,\n",
    "                SUM (price) AS sum_total\n",
    "            FROM tb_orders oo\n",
    "                INNER JOIN tb_order_items oi \n",
    "                ON oi.order_id = oo.order_id \n",
    "                GROUP BY \n",
    "                    oo.order_id, \n",
    "                    hour_24,\n",
    "                    oo.order_purchase_timestamp\n",
    "                ORDER BY \n",
    "                    hour_24\n",
    "            ) AS total_amount_per_order\n",
    "        GROUP BY \n",
    "            hour_24\n",
    "        ORDER BY \n",
    "            hour_24;\n",
    "''').show(28, truncate=False)\n"
   ]
  },
  {
   "attachments": {},
   "cell_type": "markdown",
   "metadata": {},
   "source": [
    "### 05 - Qual o ticket médio nos anos de 2016, 2017 e 2018?"
   ]
  },
  {
   "cell_type": "code",
   "execution_count": null,
   "metadata": {},
   "outputs": [
    {
     "name": "stdout",
     "output_type": "stream",
     "text": [
      "+--------+----------+\n",
      "|ext_year|avg_ticket|\n",
      "+--------+----------+\n",
      "|2016    |159.57    |\n",
      "|2017    |138.09    |\n",
      "|2018    |137.35    |\n",
      "+--------+----------+\n",
      "\n"
     ]
    }
   ],
   "source": [
    "spark.sql('''\n",
    "    SELECT \n",
    "        ext_year,\n",
    "        CAST(AVG (sum_total) AS DECIMAL(10,2)) AS avg_ticket\n",
    "    FROM (\n",
    "            SELECT \n",
    "                oo.order_id,\n",
    "                EXTRACT (YEAR FROM order_purchase_timestamp) AS ext_year, \n",
    "                SUM (price) AS sum_total\n",
    "            FROM tb_orders oo\n",
    "                INNER JOIN tb_order_items oi \n",
    "                ON oi.order_id = oo.order_id \n",
    "                GROUP BY \n",
    "                    ext_year,\n",
    "                    oo.order_id\n",
    "                ORDER BY \n",
    "                    ext_year\n",
    "            ) AS total_amount_per_order\n",
    "        GROUP BY \n",
    "            ext_year\n",
    "        ORDER BY \n",
    "            ext_year;\n",
    "''').show(truncate=False)\n"
   ]
  },
  {
   "attachments": {},
   "cell_type": "markdown",
   "metadata": {},
   "source": [
    "### 06 - Qual a distribuição(%) da pontuação do pedidos?"
   ]
  },
  {
   "cell_type": "code",
   "execution_count": null,
   "metadata": {},
   "outputs": [
    {
     "name": "stdout",
     "output_type": "stream",
     "text": [
      "+------------+---------+----------+\n",
      "|review_score|qty_score|perc_score|\n",
      "+------------+---------+----------+\n",
      "|5           |57328    |57.78     |\n",
      "|4           |19142    |19.29     |\n",
      "|3           |8179     |8.24      |\n",
      "|2           |3151     |3.18      |\n",
      "|1           |11424    |11.51     |\n",
      "+------------+---------+----------+\n",
      "\n"
     ]
    }
   ],
   "source": [
    "spark.sql('''\n",
    "    SELECT \n",
    "        review_score,\n",
    "        COUNT(*) AS qty_score,\n",
    "        CAST(COUNT(*) * 100 / SUM(COUNT(*)) OVER() AS DECIMAL(10,2)) AS perc_score\n",
    "    FROM tb_order_reviews\n",
    "        GROUP BY\n",
    "            review_score\n",
    "        ORDER BY\n",
    "            review_score DESC;\n",
    "''').show(truncate=False)\n"
   ]
  },
  {
   "attachments": {},
   "cell_type": "markdown",
   "metadata": {},
   "source": [
    "### 07 - Quais as 10 cidades com as maiores volumes(quantidade) de vendas?"
   ]
  },
  {
   "cell_type": "code",
   "execution_count": null,
   "metadata": {},
   "outputs": [
    {
     "name": "stdout",
     "output_type": "stream",
     "text": [
      "+---------------------+--------------+------+\n",
      "|customer_city        |customer_state|top_10|\n",
      "+---------------------+--------------+------+\n",
      "|sao paulo            |SP            |15540 |\n",
      "|rio de janeiro       |RJ            |6882  |\n",
      "|belo horizonte       |MG            |2773  |\n",
      "|brasilia             |DF            |2131  |\n",
      "|curitiba             |PR            |1521  |\n",
      "|campinas             |SP            |1444  |\n",
      "|porto alegre         |RS            |1379  |\n",
      "|salvador             |BA            |1245  |\n",
      "|guarulhos            |SP            |1189  |\n",
      "|sao bernardo do campo|SP            |938   |\n",
      "+---------------------+--------------+------+\n",
      "\n"
     ]
    }
   ],
   "source": [
    "spark.sql('''\n",
    "    SELECT \n",
    "        customer_city, \n",
    "        customer_state, \n",
    "        COUNT(*) AS top_10\n",
    "    FROM vw_order_costumer \n",
    "        GROUP BY \n",
    "            customer_city, \n",
    "            customer_state \n",
    "        ORDER BY \n",
    "            top_10 DESC\n",
    "        LIMIT 10;\n",
    "''').show(truncate=False)\n"
   ]
  },
  {
   "attachments": {},
   "cell_type": "markdown",
   "metadata": {},
   "source": [
    "### 08 - Quais as 10 cidades com os maiores volumes(valores) de vendas e fretes?"
   ]
  },
  {
   "cell_type": "code",
   "execution_count": null,
   "metadata": {},
   "outputs": [
    {
     "name": "stdout",
     "output_type": "stream",
     "text": [
      "+--------------+--------------+-----------+-------------+\n",
      "|customer_city |customer_state|total_price|total_freight|\n",
      "+--------------+--------------+-----------+-------------+\n",
      "|sao paulo     |SP            |1914924.54 |255302.58    |\n",
      "|rio de janeiro|RJ            |992538.86  |161695.16    |\n",
      "|belo horizonte|MG            |355611.13  |61122.26     |\n",
      "|brasilia      |DF            |301920.25  |50384.89     |\n",
      "|curitiba      |PR            |211738.06  |33001.81     |\n",
      "|porto alegre  |RS            |190562.08  |33502.01     |\n",
      "|campinas      |SP            |187844.53  |24697.17     |\n",
      "|salvador      |BA            |181104.42  |35667.98     |\n",
      "|guarulhos     |SP            |144268.39  |19307.43     |\n",
      "|niteroi       |RJ            |117907.12  |20012.26     |\n",
      "+--------------+--------------+-----------+-------------+\n",
      "\n"
     ]
    }
   ],
   "source": [
    "spark.sql('''\n",
    "    SELECT \n",
    "        customer_city, \n",
    "        customer_state, \n",
    "        CAST(SUM (price) AS DECIMAL(10,2)) AS total_price,\n",
    "        CAST(SUM (freight_value) AS DECIMAL(10,2)) AS total_freight\n",
    "    FROM vw_price_freight \n",
    "        GROUP BY \n",
    "            customer_city, \n",
    "            customer_state \n",
    "        ORDER BY \n",
    "            total_price DESC\n",
    "        LIMIT 10;\n",
    "''').show(truncate=False)\n"
   ]
  },
  {
   "attachments": {},
   "cell_type": "markdown",
   "metadata": {},
   "source": [
    "### 09 - Qual a quantidade de produtos cadastrados por categoria?"
   ]
  },
  {
   "cell_type": "code",
   "execution_count": null,
   "metadata": {},
   "outputs": [
    {
     "name": "stdout",
     "output_type": "stream",
     "text": [
      "+----------------------------------------------+-----------+\n",
      "|product_category_name                         |qty_product|\n",
      "+----------------------------------------------+-----------+\n",
      "|cama_mesa_banho                               |3029       |\n",
      "|esporte_lazer                                 |2867       |\n",
      "|moveis_decoracao                              |2657       |\n",
      "|beleza_saude                                  |2444       |\n",
      "|utilidades_domesticas                         |2335       |\n",
      "|automotivo                                    |1900       |\n",
      "|informatica_acessorios                        |1639       |\n",
      "|brinquedos                                    |1411       |\n",
      "|relogios_presentes                            |1329       |\n",
      "|telefonia                                     |1134       |\n",
      "|bebes                                         |919        |\n",
      "|perfumaria                                    |868        |\n",
      "|fashion_bolsas_e_acessorios                   |849        |\n",
      "|papelaria                                     |849        |\n",
      "|cool_stuff                                    |789        |\n",
      "|ferramentas_jardim                            |753        |\n",
      "|pet_shop                                      |719        |\n",
      "|null                                          |610        |\n",
      "|eletronicos                                   |517        |\n",
      "|construcao_ferramentas_construcao             |400        |\n",
      "|eletrodomesticos                              |370        |\n",
      "|malas_acessorios                              |349        |\n",
      "|consoles_games                                |317        |\n",
      "|moveis_escritorio                             |309        |\n",
      "|instrumentos_musicais                         |289        |\n",
      "|eletroportateis                               |231        |\n",
      "|casa_construcao                               |225        |\n",
      "|livros_interesse_geral                        |216        |\n",
      "|fashion_calcados                              |173        |\n",
      "|moveis_sala                                   |156        |\n",
      "|climatizacao                                  |124        |\n",
      "|livros_tecnicos                               |123        |\n",
      "|telefonia_fixa                                |116        |\n",
      "|casa_conforto                                 |111        |\n",
      "|market_place                                  |104        |\n",
      "|alimentos_bebidas                             |104        |\n",
      "|fashion_roupa_masculina                       |95         |\n",
      "|moveis_cozinha_area_de_servico_jantar_e_jardim|94         |\n",
      "|sinalizacao_e_seguranca                       |93         |\n",
      "|construcao_ferramentas_seguranca              |91         |\n",
      "|eletrodomesticos_2                            |90         |\n",
      "|construcao_ferramentas_jardim                 |88         |\n",
      "|alimentos                                     |82         |\n",
      "|bebidas                                       |81         |\n",
      "|construcao_ferramentas_iluminacao             |78         |\n",
      "|agro_industria_e_comercio                     |74         |\n",
      "|industria_comercio_e_negocios                 |68         |\n",
      "|artigos_de_natal                              |65         |\n",
      "|audio                                         |58         |\n",
      "|artes                                         |55         |\n",
      "|fashion_underwear_e_moda_praia                |53         |\n",
      "|dvds_blu_ray                                  |48         |\n",
      "|moveis_quarto                                 |45         |\n",
      "|construcao_ferramentas_ferramentas            |39         |\n",
      "|livros_importados                             |31         |\n",
      "|portateis_casa_forno_e_cafe                   |31         |\n",
      "|pcs                                           |30         |\n",
      "|cine_foto                                     |28         |\n",
      "|fashion_roupa_feminina                        |27         |\n",
      "|musica                                        |27         |\n",
      "|artigos_de_festas                             |26         |\n",
      "|artes_e_artesanato                            |19         |\n",
      "|fashion_esporte                               |19         |\n",
      "|flores                                        |14         |\n",
      "|fraldas_higiene                               |12         |\n",
      "|la_cuisine                                    |10         |\n",
      "|moveis_colchao_e_estofado                     |10         |\n",
      "|portateis_cozinha_e_preparadores_de_alimentos |10         |\n",
      "|tablets_impressao_imagem                      |9          |\n",
      "|fashion_roupa_infanto_juvenil                 |5          |\n",
      "|casa_conforto_2                               |5          |\n",
      "|pc_gamer                                      |3          |\n",
      "|seguros_e_servicos                            |2          |\n",
      "|cds_dvds_musicais                             |1          |\n",
      "+----------------------------------------------+-----------+\n",
      "\n"
     ]
    }
   ],
   "source": [
    "spark.sql('''\n",
    "    SELECT \n",
    "        product_category_name,\n",
    "        COUNT(product_id) AS qty_product\n",
    "    FROM tb_products\n",
    "        GROUP BY\n",
    "            product_category_name\n",
    "        ORDER BY\n",
    "            qty_product DESC;\n",
    "''').show(78, truncate=False)\n"
   ]
  },
  {
   "attachments": {},
   "cell_type": "markdown",
   "metadata": {},
   "source": [
    "### 10 - Qual a quantidade e distribuição(%) das categorias nos pedidos?"
   ]
  },
  {
   "cell_type": "code",
   "execution_count": null,
   "metadata": {},
   "outputs": [
    {
     "name": "stdout",
     "output_type": "stream",
     "text": [
      "+----------------------------------------------+-----------+-------------+\n",
      "|product_category_name                         |qty_product|perc_category|\n",
      "+----------------------------------------------+-----------+-------------+\n",
      "|cama_mesa_banho                               |11115      |9.87         |\n",
      "|beleza_saude                                  |9670       |8.58         |\n",
      "|esporte_lazer                                 |8641       |7.67         |\n",
      "|moveis_decoracao                              |8334       |7.40         |\n",
      "|informatica_acessorios                        |7827       |6.95         |\n",
      "|utilidades_domesticas                         |6964       |6.18         |\n",
      "|relogios_presentes                            |5991       |5.32         |\n",
      "|telefonia                                     |4545       |4.03         |\n",
      "|ferramentas_jardim                            |4347       |3.86         |\n",
      "|automotivo                                    |4235       |3.76         |\n",
      "|brinquedos                                    |4117       |3.65         |\n",
      "|cool_stuff                                    |3796       |3.37         |\n",
      "|perfumaria                                    |3419       |3.04         |\n",
      "|bebes                                         |3065       |2.72         |\n",
      "|eletronicos                                   |2767       |2.46         |\n",
      "|papelaria                                     |2517       |2.23         |\n",
      "|fashion_bolsas_e_acessorios                   |2031       |1.80         |\n",
      "|pet_shop                                      |1947       |1.73         |\n",
      "|moveis_escritorio                             |1691       |1.50         |\n",
      "|null                                          |1603       |1.42         |\n",
      "|consoles_games                                |1137       |1.01         |\n",
      "|malas_acessorios                              |1092       |0.97         |\n",
      "|construcao_ferramentas_construcao             |929        |0.82         |\n",
      "|eletrodomesticos                              |771        |0.68         |\n",
      "|instrumentos_musicais                         |680        |0.60         |\n",
      "|eletroportateis                               |679        |0.60         |\n",
      "|casa_construcao                               |604        |0.54         |\n",
      "|livros_interesse_geral                        |553        |0.49         |\n",
      "|moveis_sala                                   |503        |0.45         |\n",
      "|alimentos                                     |510        |0.45         |\n",
      "|casa_conforto                                 |434        |0.39         |\n",
      "|bebidas                                       |379        |0.34         |\n",
      "|audio                                         |364        |0.32         |\n",
      "|market_place                                  |311        |0.28         |\n",
      "|construcao_ferramentas_iluminacao             |304        |0.27         |\n",
      "|climatizacao                                  |297        |0.26         |\n",
      "|moveis_cozinha_area_de_servico_jantar_e_jardim|281        |0.25         |\n",
      "|alimentos_bebidas                             |278        |0.25         |\n",
      "|livros_tecnicos                               |267        |0.24         |\n",
      "|industria_comercio_e_negocios                 |268        |0.24         |\n",
      "|telefonia_fixa                                |264        |0.23         |\n",
      "|fashion_calcados                              |262        |0.23         |\n",
      "|construcao_ferramentas_jardim                 |238        |0.21         |\n",
      "|eletrodomesticos_2                            |238        |0.21         |\n",
      "|artes                                         |209        |0.19         |\n",
      "|agro_industria_e_comercio                     |212        |0.19         |\n",
      "|pcs                                           |203        |0.18         |\n",
      "|sinalizacao_e_seguranca                       |199        |0.18         |\n",
      "|construcao_ferramentas_seguranca              |194        |0.17         |\n",
      "|artigos_de_natal                              |153        |0.14         |\n",
      "|fashion_roupa_masculina                       |132        |0.12         |\n",
      "|fashion_underwear_e_moda_praia                |131        |0.12         |\n",
      "|moveis_quarto                                 |109        |0.10         |\n",
      "|construcao_ferramentas_ferramentas            |103        |0.09         |\n",
      "|tablets_impressao_imagem                      |83         |0.07         |\n",
      "|portateis_casa_forno_e_cafe                   |76         |0.07         |\n",
      "|cine_foto                                     |72         |0.06         |\n",
      "|dvds_blu_ray                                  |64         |0.06         |\n",
      "|livros_importados                             |60         |0.05         |\n",
      "|artigos_de_festas                             |43         |0.04         |\n",
      "|fashion_roupa_feminina                        |48         |0.04         |\n",
      "|flores                                        |33         |0.03         |\n",
      "|moveis_colchao_e_estofado                     |38         |0.03         |\n",
      "|fraldas_higiene                               |39         |0.03         |\n",
      "|casa_conforto_2                               |30         |0.03         |\n",
      "|musica                                        |38         |0.03         |\n",
      "|fashion_esporte                               |30         |0.03         |\n",
      "|artes_e_artesanato                            |24         |0.02         |\n",
      "|pc_gamer                                      |9          |0.01         |\n",
      "|la_cuisine                                    |14         |0.01         |\n",
      "|portateis_cozinha_e_preparadores_de_alimentos |15         |0.01         |\n",
      "|fashion_roupa_infanto_juvenil                 |8          |0.01         |\n",
      "|cds_dvds_musicais                             |14         |0.01         |\n",
      "|seguros_e_servicos                            |2          |0.00         |\n",
      "+----------------------------------------------+-----------+-------------+\n",
      "\n"
     ]
    }
   ],
   "source": [
    "spark.sql('''\n",
    "    SELECT\n",
    "        product_category_name,\n",
    "        COUNT(oi.product_id) AS qty_product,\n",
    "        CAST(COUNT(oi.product_id) * 100 / SUM(COUNT(oi.product_id)) OVER() AS DECIMAL(10,2)) AS perc_category\n",
    "    FROM tb_products po\n",
    "        INNER JOIN tb_order_items oi \n",
    "        ON po.product_id = oi.product_id\n",
    "        GROUP BY\n",
    "            product_category_name\n",
    "        ORDER BY\n",
    "            perc_category DESC;\n",
    "''').show(78, truncate=False)\n"
   ]
  },
  {
   "attachments": {},
   "cell_type": "markdown",
   "metadata": {},
   "source": [
    "### 11 - Qual a quantidade de vendas por vendedor?"
   ]
  },
  {
   "cell_type": "code",
   "execution_count": null,
   "metadata": {},
   "outputs": [
    {
     "name": "stdout",
     "output_type": "stream",
     "text": [
      "+--------------------------------+-------------------+\n",
      "|seller_id                       |qty_order_by_seller|\n",
      "+--------------------------------+-------------------+\n",
      "|6560211a19b47992c3666cc44a7e94c0|1854               |\n",
      "|4a3ca9315b744ce9f8e9374361493884|1806               |\n",
      "|cc419e0650a3c5ba77189a1882b7556a|1706               |\n",
      "|1f50f920176fa81dab994f9023523100|1404               |\n",
      "|da8622b14eb17ae2831f4ac5b9dab84a|1314               |\n",
      "|955fee9216a65b617aa5c0531780ce60|1287               |\n",
      "|7a67c85e85bb2ce8582c35f2203ad736|1160               |\n",
      "|ea8482cd71df3c1969d7b9473ff13abc|1146               |\n",
      "|4869f7a5dfa277a7dca6462dcf3b52b2|1132               |\n",
      "|3d871de0142ce09b7081e2b9d1733cb1|1080               |\n",
      "|7c67e1448b00f6e969d365cea6b010ab|982                |\n",
      "|8b321bb669392f5163d04c59e235e066|943                |\n",
      "|1025f0e2d44d7041d6cf58b6550e0bfa|915                |\n",
      "|620c87c171fb2a6dd6e8bb4dec959fc6|740                |\n",
      "|a1043bafd471dff536d0c462352beb48|718                |\n",
      "|cca3071e3e9bb7d12640c9fbe2301306|712                |\n",
      "|f8db351d8c4c4c22c6835c19a46f01b0|667                |\n",
      "|e9779976487b77c6d4ac45f75ec7afe9|657                |\n",
      "|fa1c13f2614d7b5c4749cbc52fecda94|585                |\n",
      "|7d13fca15225358621be4086e1eb0964|565                |\n",
      "+--------------------------------+-------------------+\n",
      "only showing top 20 rows\n",
      "\n"
     ]
    }
   ],
   "source": [
    "spark.sql('''\n",
    "    SELECT\n",
    "        se.seller_id,\n",
    "        COUNT(DISTINCT oi.order_id) AS qty_order_by_seller\n",
    "    FROM tb_sellers se\n",
    "        INNER JOIN tb_order_items oi \n",
    "        ON se.seller_id = oi.seller_id\n",
    "        GROUP BY \n",
    "            se.seller_id\n",
    "        ORDER BY\n",
    "            qty_order_by_seller DESC;\n",
    "''').show(truncate=False)\n"
   ]
  },
  {
   "cell_type": "code",
   "execution_count": null,
   "metadata": {},
   "outputs": [],
   "source": [
    "spark.stop()\n"
   ]
  }
 ],
 "metadata": {
  "kernelspec": {
   "display_name": "Python 3 (ipykernel)",
   "language": "python",
   "name": "python3"
  },
  "language_info": {
   "codemirror_mode": {
    "name": "ipython",
    "version": 3
   },
   "file_extension": ".py",
   "mimetype": "text/x-python",
   "name": "python",
   "nbconvert_exporter": "python",
   "pygments_lexer": "ipython3",
   "version": "3.11.1"
  }
 },
 "nbformat": 4,
 "nbformat_minor": 4
}
