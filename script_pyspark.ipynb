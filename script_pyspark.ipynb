{
 "cells": [
  {
   "attachments": {},
   "cell_type": "markdown",
   "metadata": {},
   "source": [
    "## Análise de dados: Comércio eletrônico brasileiro\n",
    "\n",
    "Este projeto é composto por um conjunto de dados públicos de comércio eletrônico brasileiro, disponibilizados pelo site Olist, são registros que compõem todo o processo de venda de um produto, da compra, pagamento, entrega e avaliação, além de dados de geolocalização, produtos e vendedores. Estas informações serão tratadas e analisadas, de modo a responder questões de negócio.\n"
   ]
  },
  {
   "attachments": {},
   "cell_type": "markdown",
   "metadata": {},
   "source": [
    "### Importação de bibliotecas"
   ]
  },
  {
   "cell_type": "code",
   "execution_count": 64,
   "metadata": {},
   "outputs": [],
   "source": [
    "from pyspark.sql import SparkSession\n",
    "from pyspark.sql.functions import col, count, desc\n"
   ]
  },
  {
   "attachments": {},
   "cell_type": "markdown",
   "metadata": {},
   "source": [
    "### Criação e iniciação de uma sessão Spark"
   ]
  },
  {
   "cell_type": "code",
   "execution_count": 2,
   "metadata": {},
   "outputs": [
    {
     "data": {
      "text/html": [
       "\n",
       "            <div>\n",
       "                <p><b>SparkSession - in-memory</b></p>\n",
       "                \n",
       "        <div>\n",
       "            <p><b>SparkContext</b></p>\n",
       "\n",
       "            <p><a href=\"http://rootx:4040\">Spark UI</a></p>\n",
       "\n",
       "            <dl>\n",
       "              <dt>Version</dt>\n",
       "                <dd><code>v3.4.0</code></dd>\n",
       "              <dt>Master</dt>\n",
       "                <dd><code>local[*]</code></dd>\n",
       "              <dt>AppName</dt>\n",
       "                <dd><code>PySpark - Olist</code></dd>\n",
       "            </dl>\n",
       "        </div>\n",
       "        \n",
       "            </div>\n",
       "        "
      ],
      "text/plain": [
       "<pyspark.sql.session.SparkSession at 0x2499b3e9810>"
      ]
     },
     "execution_count": 2,
     "metadata": {},
     "output_type": "execute_result"
    }
   ],
   "source": [
    "spark = SparkSession.builder.appName('PySpark - Olist').getOrCreate()\n",
    "spark\n"
   ]
  },
  {
   "attachments": {},
   "cell_type": "markdown",
   "metadata": {},
   "source": [
    "### Criação dos datasets a partir da leitura dos arquivos *.csv\n"
   ]
  },
  {
   "cell_type": "code",
   "execution_count": 3,
   "metadata": {},
   "outputs": [],
   "source": [
    "df_orders = spark.read.csv('dados\\olist_orders_dataset.csv', sep=',', header=True, encoding='utf-8', inferSchema=True)\n",
    "df_customers = spark.read.csv('dados\\olist_customers_dataset.csv', sep=',', header=True, encoding='utf-8', inferSchema=True)\n",
    "df_geolocation = spark.read.csv('dados\\olist_geolocation_dataset.csv', sep=',', header=True, encoding='utf-8', inferSchema=True)\n",
    "df_order_items = spark.read.csv('dados\\olist_order_items_dataset.csv', sep=',', header=True, encoding='utf-8', inferSchema=True)\n",
    "df_order_payments = spark.read.csv('dados\\olist_order_payments_dataset.csv', sep=',', header=True, encoding='utf-8', inferSchema=True)\n",
    "df_order_reviews = spark.read.csv('dados\\olist_order_reviews_dataset.csv', sep=',', header=True, encoding='utf-8', inferSchema=True)\n",
    "df_products = spark.read.csv('dados\\olist_products_dataset.csv', sep=',', header=True, encoding='utf-8', inferSchema=True)\n",
    "df_sellers = spark.read.csv('dados\\olist_sellers_dataset.csv', sep=',', header=True, encoding='utf-8', inferSchema=True)"
   ]
  },
  {
   "attachments": {},
   "cell_type": "markdown",
   "metadata": {},
   "source": [
    "### Verificando os tipos das colunas"
   ]
  },
  {
   "cell_type": "code",
   "execution_count": 4,
   "metadata": {},
   "outputs": [
    {
     "name": "stdout",
     "output_type": "stream",
     "text": [
      "root\n",
      " |-- order_id: string (nullable = true)\n",
      " |-- customer_id: string (nullable = true)\n",
      " |-- order_status: string (nullable = true)\n",
      " |-- order_purchase_timestamp: timestamp (nullable = true)\n",
      " |-- order_approved_at: timestamp (nullable = true)\n",
      " |-- order_delivered_carrier_date: timestamp (nullable = true)\n",
      " |-- order_delivered_customer_date: timestamp (nullable = true)\n",
      " |-- order_estimated_delivery_date: timestamp (nullable = true)\n",
      "\n"
     ]
    }
   ],
   "source": [
    "df_orders.printSchema()"
   ]
  },
  {
   "cell_type": "code",
   "execution_count": 5,
   "metadata": {},
   "outputs": [
    {
     "name": "stdout",
     "output_type": "stream",
     "text": [
      "root\n",
      " |-- customer_id: string (nullable = true)\n",
      " |-- customer_unique_id: string (nullable = true)\n",
      " |-- customer_zip_code_prefix: integer (nullable = true)\n",
      " |-- customer_city: string (nullable = true)\n",
      " |-- customer_state: string (nullable = true)\n",
      "\n"
     ]
    }
   ],
   "source": [
    "df_customers.printSchema()"
   ]
  },
  {
   "cell_type": "code",
   "execution_count": 6,
   "metadata": {},
   "outputs": [
    {
     "name": "stdout",
     "output_type": "stream",
     "text": [
      "root\n",
      " |-- geolocation_zip_code_prefix: integer (nullable = true)\n",
      " |-- geolocation_lat: double (nullable = true)\n",
      " |-- geolocation_lng: double (nullable = true)\n",
      " |-- geolocation_city: string (nullable = true)\n",
      " |-- geolocation_state: string (nullable = true)\n",
      "\n"
     ]
    }
   ],
   "source": [
    "df_geolocation.printSchema()"
   ]
  },
  {
   "cell_type": "code",
   "execution_count": 7,
   "metadata": {},
   "outputs": [
    {
     "name": "stdout",
     "output_type": "stream",
     "text": [
      "root\n",
      " |-- order_id: string (nullable = true)\n",
      " |-- order_item_id: integer (nullable = true)\n",
      " |-- product_id: string (nullable = true)\n",
      " |-- seller_id: string (nullable = true)\n",
      " |-- shipping_limit_date: timestamp (nullable = true)\n",
      " |-- price: double (nullable = true)\n",
      " |-- freight_value: double (nullable = true)\n",
      "\n"
     ]
    }
   ],
   "source": [
    "df_order_items.printSchema()"
   ]
  },
  {
   "cell_type": "code",
   "execution_count": 8,
   "metadata": {},
   "outputs": [
    {
     "name": "stdout",
     "output_type": "stream",
     "text": [
      "root\n",
      " |-- order_id: string (nullable = true)\n",
      " |-- payment_sequential: integer (nullable = true)\n",
      " |-- payment_type: string (nullable = true)\n",
      " |-- payment_installments: integer (nullable = true)\n",
      " |-- payment_value: double (nullable = true)\n",
      "\n"
     ]
    }
   ],
   "source": [
    "df_order_payments.printSchema()"
   ]
  },
  {
   "cell_type": "code",
   "execution_count": 9,
   "metadata": {},
   "outputs": [
    {
     "name": "stdout",
     "output_type": "stream",
     "text": [
      "root\n",
      " |-- review_id: string (nullable = true)\n",
      " |-- order_id: string (nullable = true)\n",
      " |-- review_score: string (nullable = true)\n",
      " |-- review_comment_title: string (nullable = true)\n",
      " |-- review_comment_message: string (nullable = true)\n",
      " |-- review_creation_date: string (nullable = true)\n",
      " |-- review_answer_timestamp: string (nullable = true)\n",
      "\n"
     ]
    }
   ],
   "source": [
    "df_order_reviews.printSchema()"
   ]
  },
  {
   "cell_type": "code",
   "execution_count": 10,
   "metadata": {},
   "outputs": [
    {
     "name": "stdout",
     "output_type": "stream",
     "text": [
      "root\n",
      " |-- product_id: string (nullable = true)\n",
      " |-- product_category_name: string (nullable = true)\n",
      " |-- product_name_lenght: integer (nullable = true)\n",
      " |-- product_description_lenght: integer (nullable = true)\n",
      " |-- product_photos_qty: integer (nullable = true)\n",
      " |-- product_weight_g: integer (nullable = true)\n",
      " |-- product_length_cm: integer (nullable = true)\n",
      " |-- product_height_cm: integer (nullable = true)\n",
      " |-- product_width_cm: integer (nullable = true)\n",
      "\n"
     ]
    }
   ],
   "source": [
    "df_products.printSchema()"
   ]
  },
  {
   "cell_type": "code",
   "execution_count": 11,
   "metadata": {},
   "outputs": [
    {
     "name": "stdout",
     "output_type": "stream",
     "text": [
      "root\n",
      " |-- seller_id: string (nullable = true)\n",
      " |-- seller_zip_code_prefix: integer (nullable = true)\n",
      " |-- seller_city: string (nullable = true)\n",
      " |-- seller_state: string (nullable = true)\n",
      "\n"
     ]
    }
   ],
   "source": [
    "df_sellers.printSchema()"
   ]
  },
  {
   "attachments": {},
   "cell_type": "markdown",
   "metadata": {},
   "source": [
    "### Verificando a existência de registros nulos"
   ]
  },
  {
   "cell_type": "code",
   "execution_count": 61,
   "metadata": {},
   "outputs": [],
   "source": [
    "def check_nulls(dataframe, name):\n",
    "    print('\\n', name.upper(), '-'* (100 - len(name)))\n",
    "    for coluna in dataframe.columns:\n",
    "        qty = dataframe.filter(dataframe[coluna].isNull()).count()\n",
    "        if qty >= 1:\n",
    "            print('', coluna, qty)\n"
   ]
  },
  {
   "cell_type": "code",
   "execution_count": 62,
   "metadata": {},
   "outputs": [
    {
     "name": "stdout",
     "output_type": "stream",
     "text": [
      "\n",
      " DF_ORDERS -------------------------------------------------------------------------------------------\n",
      " order_approved_at 160\n",
      " order_delivered_carrier_date 1783\n",
      " order_delivered_customer_date 2965\n",
      "\n",
      " DF_CUSTOMERS ----------------------------------------------------------------------------------------\n",
      "\n",
      " DF_GEOLOCATION --------------------------------------------------------------------------------------\n",
      "\n",
      " DF_ORDER_ITEMS --------------------------------------------------------------------------------------\n",
      "\n",
      " DF_ORDER_PAYMENTS -----------------------------------------------------------------------------------\n",
      "\n",
      " DF_ORDER_REVIEWS ------------------------------------------------------------------------------------\n",
      " review_id 1\n",
      " order_id 2236\n",
      " review_score 2380\n",
      " review_comment_title 92157\n",
      " review_comment_message 63079\n",
      " review_creation_date 8764\n",
      " review_answer_timestamp 8785\n",
      "\n",
      " DF_PRODUCTS -----------------------------------------------------------------------------------------\n",
      " product_category_name 610\n",
      " product_name_lenght 610\n",
      " product_description_lenght 610\n",
      " product_photos_qty 610\n",
      " product_weight_g 2\n",
      " product_length_cm 2\n",
      " product_height_cm 2\n",
      " product_width_cm 2\n",
      "\n",
      " DF_SELLERS ------------------------------------------------------------------------------------------\n"
     ]
    }
   ],
   "source": [
    "check_nulls(df_orders, 'df_orders')\n",
    "check_nulls(df_customers, 'df_customers')\n",
    "check_nulls(df_geolocation, 'df_geolocation')\n",
    "check_nulls(df_order_items, 'df_order_items')\n",
    "check_nulls(df_order_payments, 'df_order_payments')\n",
    "check_nulls(df_order_reviews, 'df_order_reviews')\n",
    "check_nulls(df_products, 'df_products')\n",
    "check_nulls(df_sellers, 'df_sellers')\n"
   ]
  },
  {
   "attachments": {},
   "cell_type": "markdown",
   "metadata": {},
   "source": [
    "Foram identificados valores nulos em 3 dataframes, df_orders, df_order_reviews e df_products, entretando no caso de **df_orders** os dados representam operações de venda, logo possui vários estágios podendo ser uma venda concluída, cancelada, processamento ou mesmo em trânsito, ou seja, dependendo do estágio algumas colunas podem ficarem vazias (nulas), em **df_order_reviews** há campos com reviews dos compradores sobre suas compras, não é obrigatório um cliente escrever um review e em **df_products** há produtos com nome e descrição ausentes, porém constam em pedidos de clientes."
   ]
  },
  {
   "attachments": {},
   "cell_type": "markdown",
   "metadata": {},
   "source": [
    "### Verificando a existência de registros duplicados"
   ]
  },
  {
   "cell_type": "code",
   "execution_count": 67,
   "metadata": {},
   "outputs": [
    {
     "name": "stdout",
     "output_type": "stream",
     "text": [
      "+--------------------------------+---+\n",
      "|customer_unique_id              |qty|\n",
      "+--------------------------------+---+\n",
      "|8d50f5eadf50201ccdcedfb9e2ac8455|17 |\n",
      "|3e43e6105506432c953e165fb2acf44c|9  |\n",
      "|ca77025e7201e3b30c44b472ff346268|7  |\n",
      "|1b6c7548a2a1f9037c1fd3ddfed95f33|7  |\n",
      "|6469f99c1f9dfae7733b25662e7f1782|7  |\n",
      "+--------------------------------+---+\n",
      "only showing top 5 rows\n",
      "\n"
     ]
    }
   ],
   "source": [
    "dup = df_customers.groupBy('customer_unique_id') \\\n",
    "        .agg(count('*').alias('qty')) \\\n",
    "        .where(col('qty') > 1) \\\n",
    "        .orderBy(desc('qty'))\n",
    "        \n",
    "dup.show(5, truncate=False)"
   ]
  },
  {
   "attachments": {},
   "cell_type": "markdown",
   "metadata": {},
   "source": [
    "### Criando views temporárias para uso do Spark SQL"
   ]
  },
  {
   "cell_type": "code",
   "execution_count": 14,
   "metadata": {},
   "outputs": [],
   "source": [
    "df_orders.createOrReplaceTempView('orders')\n",
    "df_customers.createOrReplaceTempView('customers')\n",
    "df_geolocation.createOrReplaceTempView('geolocation')\n",
    "df_order_items.createOrReplaceTempView('order_items')\n",
    "df_order_payments.createOrReplaceTempView('order_payments')\n",
    "df_order_reviews.createOrReplaceTempView('order_reviews')\n",
    "df_products.createOrReplaceTempView('products')\n",
    "df_sellers.createOrReplaceTempView('sellers')\n"
   ]
  },
  {
   "cell_type": "code",
   "execution_count": 25,
   "metadata": {},
   "outputs": [
    {
     "name": "stdout",
     "output_type": "stream",
     "text": [
      "+--------------------------------+--------------------------------+------------------------+-------------+--------------+\n",
      "|customer_id                     |customer_unique_id              |customer_zip_code_prefix|customer_city|customer_state|\n",
      "+--------------------------------+--------------------------------+------------------------+-------------+--------------+\n",
      "|1bd3585471932167ab72a84955ebefea|8d50f5eadf50201ccdcedfb9e2ac8455|4045                    |sao paulo    |SP            |\n",
      "|a8fabc805e9a10a3c93ae5bff642b86b|8d50f5eadf50201ccdcedfb9e2ac8455|4045                    |sao paulo    |SP            |\n",
      "|897b7f72042714efaa64ac306ba0cafc|8d50f5eadf50201ccdcedfb9e2ac8455|4045                    |sao paulo    |SP            |\n",
      "|b2b13de0770e06de50080fea77c459e6|8d50f5eadf50201ccdcedfb9e2ac8455|4045                    |sao paulo    |SP            |\n",
      "|42dbc1ad9d560637c9c4c1533746f86d|8d50f5eadf50201ccdcedfb9e2ac8455|4045                    |sao paulo    |SP            |\n",
      "|dfb941d6f7b02f57a44c3b7c3fefb44b|8d50f5eadf50201ccdcedfb9e2ac8455|4045                    |sao paulo    |SP            |\n",
      "|65f9db9dd07a4e79b625effa4c868fcb|8d50f5eadf50201ccdcedfb9e2ac8455|4045                    |sao paulo    |SP            |\n",
      "|1c62b48fb34ee043310dcb233caabd2e|8d50f5eadf50201ccdcedfb9e2ac8455|4045                    |sao paulo    |SP            |\n",
      "|a682769c4bc10fc6ef2101337a6c83c9|8d50f5eadf50201ccdcedfb9e2ac8455|4045                    |sao paulo    |SP            |\n",
      "|6289b75219d757a56c0cce8d9e427900|8d50f5eadf50201ccdcedfb9e2ac8455|4045                    |sao paulo    |SP            |\n",
      "|3414a9c813e3ca02504b8be8b2deb27f|8d50f5eadf50201ccdcedfb9e2ac8455|4045                    |sao paulo    |SP            |\n",
      "|0e4fdc084a6b9329ed55d62dcd653ccf|8d50f5eadf50201ccdcedfb9e2ac8455|4045                    |sao paulo    |SP            |\n",
      "|f5188d99e9281e214a4a7d1b139a8229|8d50f5eadf50201ccdcedfb9e2ac8455|4045                    |sao paulo    |SP            |\n",
      "|89be66634d68fa73a95499b6352e085d|8d50f5eadf50201ccdcedfb9e2ac8455|4045                    |sao paulo    |SP            |\n",
      "|0bf8bf19944a7f8b40ba86fef778ca7c|8d50f5eadf50201ccdcedfb9e2ac8455|4045                    |sao paulo    |SP            |\n",
      "|9a1afef458843a022e431f4cb304dfe9|8d50f5eadf50201ccdcedfb9e2ac8455|4045                    |sao paulo    |SP            |\n",
      "|31dd055624c66f291578297a551a6cdf|8d50f5eadf50201ccdcedfb9e2ac8455|4045                    |sao paulo    |SP            |\n",
      "+--------------------------------+--------------------------------+------------------------+-------------+--------------+\n",
      "\n"
     ]
    }
   ],
   "source": [
    "spark.sql('''\n",
    "      SELECT * FROM customers \n",
    "      WHERE customer_unique_id='8d50f5eadf50201ccdcedfb9e2ac8455';\n",
    "''').show(truncate=False)"
   ]
  }
 ],
 "metadata": {
  "kernelspec": {
   "display_name": "Python 3",
   "language": "python",
   "name": "python3"
  },
  "language_info": {
   "codemirror_mode": {
    "name": "ipython",
    "version": 3
   },
   "file_extension": ".py",
   "mimetype": "text/x-python",
   "name": "python",
   "nbconvert_exporter": "python",
   "pygments_lexer": "ipython3",
   "version": "3.11.1"
  },
  "orig_nbformat": 4
 },
 "nbformat": 4,
 "nbformat_minor": 2
}
