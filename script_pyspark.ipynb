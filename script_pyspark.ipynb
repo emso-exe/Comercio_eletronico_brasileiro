{
 "cells": [
  {
   "attachments": {},
   "cell_type": "markdown",
   "metadata": {},
   "source": [
    "## Análise de dados: Comércio eletrônico brasileiro\n",
    "\n",
    "Este projeto é composto por um conjunto de dados públicos de comércio eletrônico brasileiro, disponibilizados pelo site Olist, são registros que compõem todo o processo de venda de um produto, da compra, pagamento, entrega e avaliação, além de dados de geolocalização, produtos e vendedores. Estas informações serão tratadas e analisadas, de modo a responder questões de negócio.\n"
   ]
  },
  {
   "attachments": {},
   "cell_type": "markdown",
   "metadata": {},
   "source": [
    "### Importação de bibliotecas"
   ]
  },
  {
   "cell_type": "code",
   "execution_count": 469,
   "metadata": {},
   "outputs": [],
   "source": [
    "from pyspark.sql import SparkSession\n",
    "from pyspark.sql.functions import col, count, desc\n"
   ]
  },
  {
   "attachments": {},
   "cell_type": "markdown",
   "metadata": {},
   "source": [
    "### Criação e iniciação de uma sessão Spark"
   ]
  },
  {
   "cell_type": "code",
   "execution_count": 470,
   "metadata": {},
   "outputs": [
    {
     "data": {
      "text/html": [
       "\n",
       "            <div>\n",
       "                <p><b>SparkSession - in-memory</b></p>\n",
       "                \n",
       "        <div>\n",
       "            <p><b>SparkContext</b></p>\n",
       "\n",
       "            <p><a href=\"http://rootx:4040\">Spark UI</a></p>\n",
       "\n",
       "            <dl>\n",
       "              <dt>Version</dt>\n",
       "                <dd><code>v3.4.0</code></dd>\n",
       "              <dt>Master</dt>\n",
       "                <dd><code>local[*]</code></dd>\n",
       "              <dt>AppName</dt>\n",
       "                <dd><code>PySpark - Olist</code></dd>\n",
       "            </dl>\n",
       "        </div>\n",
       "        \n",
       "            </div>\n",
       "        "
      ],
      "text/plain": [
       "<pyspark.sql.session.SparkSession at 0x1d32ae6bbd0>"
      ]
     },
     "execution_count": 470,
     "metadata": {},
     "output_type": "execute_result"
    }
   ],
   "source": [
    "spark = SparkSession.builder.appName('PySpark - Olist').getOrCreate()\n",
    "spark\n"
   ]
  },
  {
   "attachments": {},
   "cell_type": "markdown",
   "metadata": {},
   "source": [
    "### Criação dos datasets a partir da leitura dos arquivos *.csv\n"
   ]
  },
  {
   "cell_type": "code",
   "execution_count": 471,
   "metadata": {},
   "outputs": [],
   "source": [
    "df_orders = spark.read.csv('dados\\olist_orders_dataset.csv', sep=',', header=True, \n",
    "                           encoding='utf-8', inferSchema=True)\n",
    "df_customers = spark.read.csv('dados\\olist_customers_dataset.csv', sep=',', header=True, \n",
    "                              encoding='utf-8', inferSchema=True)\n",
    "df_geolocation = spark.read.csv('dados\\olist_geolocation_dataset.csv', sep=',', header=True, \n",
    "                                encoding='utf-8', inferSchema=True)\n",
    "df_order_items = spark.read.csv('dados\\olist_order_items_dataset.csv', sep=',', header=True, \n",
    "                                encoding='utf-8', inferSchema=True)\n",
    "df_order_payments = spark.read.csv('dados\\olist_order_payments_dataset.csv', sep=',', header=True, \n",
    "                                   encoding='utf-8', inferSchema=True)\n",
    "df_order_reviews = spark.read.csv('dados\\olist_order_reviews_dataset.csv', sep=',', header=True, \n",
    "                                  encoding='utf-8', inferSchema=True, \n",
    "                                  multiLine=True, ignoreLeadingWhiteSpace=True, escape='\"', quote='\"')\n",
    "df_products = spark.read.csv('dados\\olist_products_dataset.csv', sep=',', header=True, \n",
    "                             encoding='utf-8', inferSchema=True)\n",
    "df_sellers = spark.read.csv('dados\\olist_sellers_dataset.csv', sep=',', header=True, \n",
    "                            encoding='utf-8', inferSchema=True)"
   ]
  },
  {
   "attachments": {},
   "cell_type": "markdown",
   "metadata": {},
   "source": [
    "### Verificando os tipos das colunas"
   ]
  },
  {
   "cell_type": "code",
   "execution_count": 472,
   "metadata": {},
   "outputs": [
    {
     "name": "stdout",
     "output_type": "stream",
     "text": [
      "root\n",
      " |-- order_id: string (nullable = true)\n",
      " |-- customer_id: string (nullable = true)\n",
      " |-- order_status: string (nullable = true)\n",
      " |-- order_purchase_timestamp: timestamp (nullable = true)\n",
      " |-- order_approved_at: timestamp (nullable = true)\n",
      " |-- order_delivered_carrier_date: timestamp (nullable = true)\n",
      " |-- order_delivered_customer_date: timestamp (nullable = true)\n",
      " |-- order_estimated_delivery_date: timestamp (nullable = true)\n",
      "\n"
     ]
    }
   ],
   "source": [
    "df_orders.printSchema()"
   ]
  },
  {
   "cell_type": "code",
   "execution_count": 473,
   "metadata": {},
   "outputs": [
    {
     "name": "stdout",
     "output_type": "stream",
     "text": [
      "root\n",
      " |-- customer_id: string (nullable = true)\n",
      " |-- customer_unique_id: string (nullable = true)\n",
      " |-- customer_zip_code_prefix: integer (nullable = true)\n",
      " |-- customer_city: string (nullable = true)\n",
      " |-- customer_state: string (nullable = true)\n",
      "\n"
     ]
    }
   ],
   "source": [
    "df_customers.printSchema()"
   ]
  },
  {
   "cell_type": "code",
   "execution_count": 474,
   "metadata": {},
   "outputs": [
    {
     "name": "stdout",
     "output_type": "stream",
     "text": [
      "root\n",
      " |-- geolocation_zip_code_prefix: integer (nullable = true)\n",
      " |-- geolocation_lat: double (nullable = true)\n",
      " |-- geolocation_lng: double (nullable = true)\n",
      " |-- geolocation_city: string (nullable = true)\n",
      " |-- geolocation_state: string (nullable = true)\n",
      "\n"
     ]
    }
   ],
   "source": [
    "df_geolocation.printSchema()"
   ]
  },
  {
   "cell_type": "code",
   "execution_count": 475,
   "metadata": {},
   "outputs": [
    {
     "name": "stdout",
     "output_type": "stream",
     "text": [
      "root\n",
      " |-- order_id: string (nullable = true)\n",
      " |-- order_item_id: integer (nullable = true)\n",
      " |-- product_id: string (nullable = true)\n",
      " |-- seller_id: string (nullable = true)\n",
      " |-- shipping_limit_date: timestamp (nullable = true)\n",
      " |-- price: double (nullable = true)\n",
      " |-- freight_value: double (nullable = true)\n",
      "\n"
     ]
    }
   ],
   "source": [
    "df_order_items.printSchema()"
   ]
  },
  {
   "cell_type": "code",
   "execution_count": 476,
   "metadata": {},
   "outputs": [
    {
     "name": "stdout",
     "output_type": "stream",
     "text": [
      "root\n",
      " |-- order_id: string (nullable = true)\n",
      " |-- payment_sequential: integer (nullable = true)\n",
      " |-- payment_type: string (nullable = true)\n",
      " |-- payment_installments: integer (nullable = true)\n",
      " |-- payment_value: double (nullable = true)\n",
      "\n"
     ]
    }
   ],
   "source": [
    "df_order_payments.printSchema()"
   ]
  },
  {
   "cell_type": "code",
   "execution_count": 477,
   "metadata": {},
   "outputs": [
    {
     "name": "stdout",
     "output_type": "stream",
     "text": [
      "root\n",
      " |-- review_id: string (nullable = true)\n",
      " |-- order_id: string (nullable = true)\n",
      " |-- review_score: integer (nullable = true)\n",
      " |-- review_comment_title: string (nullable = true)\n",
      " |-- review_comment_message: string (nullable = true)\n",
      " |-- review_creation_date: timestamp (nullable = true)\n",
      " |-- review_answer_timestamp: timestamp (nullable = true)\n",
      "\n"
     ]
    }
   ],
   "source": [
    "df_order_reviews.printSchema()"
   ]
  },
  {
   "cell_type": "code",
   "execution_count": 478,
   "metadata": {},
   "outputs": [
    {
     "name": "stdout",
     "output_type": "stream",
     "text": [
      "root\n",
      " |-- product_id: string (nullable = true)\n",
      " |-- product_category_name: string (nullable = true)\n",
      " |-- product_name_lenght: integer (nullable = true)\n",
      " |-- product_description_lenght: integer (nullable = true)\n",
      " |-- product_photos_qty: integer (nullable = true)\n",
      " |-- product_weight_g: integer (nullable = true)\n",
      " |-- product_length_cm: integer (nullable = true)\n",
      " |-- product_height_cm: integer (nullable = true)\n",
      " |-- product_width_cm: integer (nullable = true)\n",
      "\n"
     ]
    }
   ],
   "source": [
    "df_products.printSchema()"
   ]
  },
  {
   "cell_type": "code",
   "execution_count": 479,
   "metadata": {},
   "outputs": [
    {
     "name": "stdout",
     "output_type": "stream",
     "text": [
      "root\n",
      " |-- seller_id: string (nullable = true)\n",
      " |-- seller_zip_code_prefix: integer (nullable = true)\n",
      " |-- seller_city: string (nullable = true)\n",
      " |-- seller_state: string (nullable = true)\n",
      "\n"
     ]
    }
   ],
   "source": [
    "df_sellers.printSchema()"
   ]
  },
  {
   "attachments": {},
   "cell_type": "markdown",
   "metadata": {},
   "source": [
    "### Verificando a existência de registros nulos"
   ]
  },
  {
   "cell_type": "code",
   "execution_count": 480,
   "metadata": {},
   "outputs": [],
   "source": [
    "def check_nulls(dataframe, name):\n",
    "    '''\n",
    "    Verifica e exibe campos e quantidade de registros nulos.\n",
    "\n",
    "    :param dataframe: string\n",
    "    :param name: string\n",
    "    '''\n",
    "    print('\\n', name.upper(), '-'* (100 - len(name)))\n",
    "    for coluna in dataframe.columns:\n",
    "        qty = dataframe.filter(dataframe[coluna].isNull()).count()\n",
    "        if qty >= 1:\n",
    "            print('', coluna, qty)\n"
   ]
  },
  {
   "cell_type": "code",
   "execution_count": 481,
   "metadata": {},
   "outputs": [
    {
     "name": "stdout",
     "output_type": "stream",
     "text": [
      "\n",
      " DF_ORDERS -------------------------------------------------------------------------------------------\n",
      " order_approved_at 160\n",
      " order_delivered_carrier_date 1783\n",
      " order_delivered_customer_date 2965\n",
      "\n",
      " DF_CUSTOMERS ----------------------------------------------------------------------------------------\n",
      "\n",
      " DF_GEOLOCATION --------------------------------------------------------------------------------------\n",
      "\n",
      " DF_ORDER_ITEMS --------------------------------------------------------------------------------------\n",
      "\n",
      " DF_ORDER_PAYMENTS -----------------------------------------------------------------------------------\n",
      "\n",
      " DF_ORDER_REVIEWS ------------------------------------------------------------------------------------\n",
      " review_comment_title 87658\n",
      " review_comment_message 58256\n",
      "\n",
      " DF_PRODUCTS -----------------------------------------------------------------------------------------\n",
      " product_category_name 610\n",
      " product_name_lenght 610\n",
      " product_description_lenght 610\n",
      " product_photos_qty 610\n",
      " product_weight_g 2\n",
      " product_length_cm 2\n",
      " product_height_cm 2\n",
      " product_width_cm 2\n",
      "\n",
      " DF_SELLERS ------------------------------------------------------------------------------------------\n"
     ]
    }
   ],
   "source": [
    "check_nulls(df_orders, 'df_orders')\n",
    "check_nulls(df_customers, 'df_customers')\n",
    "check_nulls(df_geolocation, 'df_geolocation')\n",
    "check_nulls(df_order_items, 'df_order_items')\n",
    "check_nulls(df_order_payments, 'df_order_payments')\n",
    "check_nulls(df_order_reviews, 'df_order_reviews')\n",
    "check_nulls(df_products, 'df_products')\n",
    "check_nulls(df_sellers, 'df_sellers')\n"
   ]
  },
  {
   "attachments": {},
   "cell_type": "markdown",
   "metadata": {},
   "source": [
    "\n",
    "Foram identificados valores nulos em 3 dataframes, df_orders, df_order_reviews e df_products, entretando no caso de **df_orders** os dados representam operações de venda, logo possui vários estágios podendo ser uma venda concluída, cancelada, processamento ou mesmo em trânsito, ou seja, dependendo do estágio algumas colunas podem ficarem vazias (nulas), em **df_order_reviews** há campos com reviews dos compradores sobre suas compras, não é obrigatório um cliente escrever um review e em **df_products** há produtos com nome e descrição ausentes, porém constam em pedidos de clientes."
   ]
  },
  {
   "attachments": {},
   "cell_type": "markdown",
   "metadata": {},
   "source": [
    "### Verificando a existência de registros duplicados"
   ]
  },
  {
   "cell_type": "code",
   "execution_count": 482,
   "metadata": {},
   "outputs": [],
   "source": [
    "def check_duplicates(dataframe, fields):\n",
    "    '''\n",
    "    Verifica e exibe uma amostra de 5 registros duplicados.\n",
    "\n",
    "    :param dataframe: string\n",
    "    :param fileds: string/list\n",
    "    '''\n",
    "    duplicate = dataframe.groupBy(fields) \\\n",
    "        .agg(count('*').alias('qty')) \\\n",
    "        .where(col('qty') > 1) \\\n",
    "        .orderBy(desc('qty'))   \n",
    "    duplicate.show(5, truncate=False)"
   ]
  },
  {
   "cell_type": "code",
   "execution_count": 483,
   "metadata": {},
   "outputs": [
    {
     "name": "stdout",
     "output_type": "stream",
     "text": [
      "+--------------------------------+---+\n",
      "|customer_unique_id              |qty|\n",
      "+--------------------------------+---+\n",
      "|8d50f5eadf50201ccdcedfb9e2ac8455|17 |\n",
      "|3e43e6105506432c953e165fb2acf44c|9  |\n",
      "|ca77025e7201e3b30c44b472ff346268|7  |\n",
      "|1b6c7548a2a1f9037c1fd3ddfed95f33|7  |\n",
      "|6469f99c1f9dfae7733b25662e7f1782|7  |\n",
      "+--------------------------------+---+\n",
      "only showing top 5 rows\n",
      "\n"
     ]
    }
   ],
   "source": [
    "check_duplicates(df_customers, 'customer_unique_id')"
   ]
  },
  {
   "attachments": {},
   "cell_type": "markdown",
   "metadata": {},
   "source": [
    "Em **df_customers** existem dados duplicados na coluna _customer_unique_id_, porém conforme a descrição da tabela no site Kaggle está correto conforme regra estabelecida pela Olist, basicamente esse campo permite que se identifique clientes que fizeram recompras."
   ]
  },
  {
   "cell_type": "code",
   "execution_count": 484,
   "metadata": {},
   "outputs": [
    {
     "name": "stdout",
     "output_type": "stream",
     "text": [
      "+-------------------+------------------+---+\n",
      "|geolocation_lat    |geolocation_lng   |qty|\n",
      "+-------------------+------------------+---+\n",
      "|-27.102098999999946|-48.62961349999995|314|\n",
      "|-23.495901469908656|-46.87468669635919|190|\n",
      "|-23.506049208479613|-46.71737739541604|141|\n",
      "|-23.490617505282753|-46.86900366603934|127|\n",
      "|-23.00551425914832 |-43.37596441256672|102|\n",
      "+-------------------+------------------+---+\n",
      "only showing top 5 rows\n",
      "\n"
     ]
    }
   ],
   "source": [
    "check_duplicates(df_geolocation, ['geolocation_lat', 'geolocation_lng'])"
   ]
  },
  {
   "cell_type": "code",
   "execution_count": 485,
   "metadata": {},
   "outputs": [
    {
     "name": "stdout",
     "output_type": "stream",
     "text": [
      "+---------------------------+-------------------+-------------------+----------------+-----------------+\n",
      "|geolocation_zip_code_prefix|geolocation_lat    |geolocation_lng    |geolocation_city|geolocation_state|\n",
      "+---------------------------+-------------------+-------------------+----------------+-----------------+\n",
      "|1020                       |-23.551247650297142|-46.628331542472104|sao paulo       |SP               |\n",
      "|1015                       |-23.548031800450076|-46.63357615958799 |sao paulo       |SP               |\n",
      "|1033                       |-23.54077242862274 |-46.63658627751788 |são paulo       |SP               |\n",
      "|1122                       |-23.529995958364616|-46.64040623812689 |sao paulo       |SP               |\n",
      "|1103                       |-23.539337475993985|-46.62899422217096 |são paulo       |SP               |\n",
      "+---------------------------+-------------------+-------------------+----------------+-----------------+\n",
      "only showing top 5 rows\n",
      "\n"
     ]
    }
   ],
   "source": [
    "df_geolocation = df_geolocation.dropDuplicates()\n",
    "        \n",
    "df_geolocation.show(5, truncate=False)"
   ]
  },
  {
   "attachments": {},
   "cell_type": "markdown",
   "metadata": {},
   "source": [
    "Existiam linhas duplicadas em **df_geolocation**, porém nesse dataframe não há uma coluna com um identificador exclusivo para cada linha então foi criada uma tabela com os dados exclusivos baseado nas colunas _geolocation_lat_ e _geolocation_lng_ e substituído dataframe anterior."
   ]
  },
  {
   "cell_type": "code",
   "execution_count": 491,
   "metadata": {},
   "outputs": [
    {
     "name": "stdout",
     "output_type": "stream",
     "text": [
      "+--------------------------------+---+\n",
      "|order_id                        |qty|\n",
      "+--------------------------------+---+\n",
      "|8272b63d03f5f79c56e9e4120aec44ef|21 |\n",
      "|1b15974a0141d54e36626dca3fdc731a|20 |\n",
      "|ab14fdcfbe524636d65ee38360e22ce8|20 |\n",
      "|428a2f660dc84138d969ccd69a0ab6d5|15 |\n",
      "|9ef13efd6949e4573a18964dd1bbe7f5|15 |\n",
      "+--------------------------------+---+\n",
      "only showing top 5 rows\n",
      "\n"
     ]
    }
   ],
   "source": [
    "check_duplicates(df_order_items, 'order_id')"
   ]
  },
  {
   "attachments": {},
   "cell_type": "markdown",
   "metadata": {},
   "source": [
    "Há linhas duplicadas em **df_order_items**, este dataframe contêm os itens que compõem uma compra, logo uma ordem de venda pode conter um ou vários produtos distintos ou não, portanto não há necessidade de efetuar qualquer ajuste."
   ]
  },
  {
   "cell_type": "code",
   "execution_count": 492,
   "metadata": {},
   "outputs": [
    {
     "name": "stdout",
     "output_type": "stream",
     "text": [
      "+--------------------------------+---+\n",
      "|order_id                        |qty|\n",
      "+--------------------------------+---+\n",
      "|fa65dad1b0e818e3ccc5cb0e39231352|29 |\n",
      "|ccf804e764ed5650cd8759557269dc13|26 |\n",
      "|285c2e15bebd4ac83635ccc563dc71f4|22 |\n",
      "|895ab968e7bb0d5659d16cd74cd1650c|21 |\n",
      "|ee9ca989fc93ba09a6eddc250ce01742|19 |\n",
      "+--------------------------------+---+\n",
      "only showing top 5 rows\n",
      "\n"
     ]
    }
   ],
   "source": [
    "check_duplicates(df_order_payments, 'order_id')"
   ]
  },
  {
   "attachments": {},
   "cell_type": "markdown",
   "metadata": {},
   "source": [
    "O dataframe **df_order_payments** consiste na cadastro de meios de pagamentos, parcelas (quando aplicável), então uma ordem de venda pode ser com uma ou várias formas de pagamento e estas podem ser parceladas em várias vezes, nenhuma alteração executada."
   ]
  },
  {
   "cell_type": "code",
   "execution_count": 494,
   "metadata": {},
   "outputs": [
    {
     "name": "stdout",
     "output_type": "stream",
     "text": [
      "+--------------------------------+---+\n",
      "|order_id                        |qty|\n",
      "+--------------------------------+---+\n",
      "|df56136b8031ecd28e200bb18e6ddb2e|3  |\n",
      "|8e17072ec97ce29f0e1f111e598b0c85|3  |\n",
      "|03c939fd7fd3b38f8485a0f95798f1f6|3  |\n",
      "|c88b1d1b157a9999ce368f218a407141|3  |\n",
      "|f63a31c3349b87273468ff7e66852056|2  |\n",
      "+--------------------------------+---+\n",
      "only showing top 5 rows\n",
      "\n"
     ]
    }
   ],
   "source": [
    "check_duplicates(df_order_reviews, 'order_id')"
   ]
  },
  {
   "attachments": {},
   "cell_type": "markdown",
   "metadata": {},
   "source": [
    "Após a conclusão da entrega do pedido o cliente recebe um e-mail convidando a efetuar uma avaliação, entretanto tanto o título quanto o mensagem da review são opcionais. Apesar de existirem pedidos com mais de uma avaliação os demais campos apresentam notas reviews, data e horas distintas, são essas informações que alimentam o dataframe **df_order_reviews**. Não foram feitas alterações."
   ]
  },
  {
   "cell_type": "code",
   "execution_count": 496,
   "metadata": {},
   "outputs": [
    {
     "name": "stdout",
     "output_type": "stream",
     "text": [
      "+--------+---+\n",
      "|order_id|qty|\n",
      "+--------+---+\n",
      "+--------+---+\n",
      "\n"
     ]
    }
   ],
   "source": [
    "check_duplicates(df_orders, 'order_id')"
   ]
  },
  {
   "attachments": {},
   "cell_type": "markdown",
   "metadata": {},
   "source": [
    "Um cliente pode efetuar um ou várias compras e que podem estar em várias estágios desde a criação da ordem até a sua entrega, ainda entre esses estágios algum outro processo pode determinar a continuidade da venda ou não, resultando em por exemplo o cancelamento, sendo assim pode ocorrer de existir registros de operações de venda ainda não concluídos, estas são as informaçõe que compõem o **df_orders**."
   ]
  },
  {
   "cell_type": "code",
   "execution_count": 497,
   "metadata": {},
   "outputs": [
    {
     "name": "stdout",
     "output_type": "stream",
     "text": [
      "+----------+---+\n",
      "|product_id|qty|\n",
      "+----------+---+\n",
      "+----------+---+\n",
      "\n"
     ]
    }
   ],
   "source": [
    "check_duplicates(df_products, 'product_id')"
   ]
  },
  {
   "attachments": {},
   "cell_type": "markdown",
   "metadata": {},
   "source": [
    "O dataframe **df_products** contém o cadastro de produtos, descrição, dimensões, entre outras informações."
   ]
  },
  {
   "cell_type": "code",
   "execution_count": 498,
   "metadata": {},
   "outputs": [
    {
     "name": "stdout",
     "output_type": "stream",
     "text": [
      "+---------+---+\n",
      "|seller_id|qty|\n",
      "+---------+---+\n",
      "+---------+---+\n",
      "\n"
     ]
    }
   ],
   "source": [
    "check_duplicates(df_sellers, 'seller_id')"
   ]
  },
  {
   "attachments": {},
   "cell_type": "markdown",
   "metadata": {},
   "source": [
    "O dataframe **df_sellers** contém o cadastro de vendedores e sua localização (cep, cidade e estado)."
   ]
  },
  {
   "attachments": {},
   "cell_type": "markdown",
   "metadata": {},
   "source": [
    "### Criando views temporárias para uso do Spark SQL"
   ]
  },
  {
   "cell_type": "code",
   "execution_count": 486,
   "metadata": {},
   "outputs": [],
   "source": [
    "df_orders.createOrReplaceTempView('orders')\n",
    "df_customers.createOrReplaceTempView('customers')\n",
    "df_geolocation.createOrReplaceTempView('geolocation')\n",
    "df_order_items.createOrReplaceTempView('order_items')\n",
    "df_order_payments.createOrReplaceTempView('order_payments')\n",
    "df_order_reviews.createOrReplaceTempView('order_reviews')\n",
    "df_products.createOrReplaceTempView('products')\n",
    "df_sellers.createOrReplaceTempView('sellers')\n"
   ]
  },
  {
   "cell_type": "code",
   "execution_count": 495,
   "metadata": {},
   "outputs": [
    {
     "name": "stdout",
     "output_type": "stream",
     "text": [
      "+--------------------------------+--------------------------------+------------+--------------------+----------------------+--------------------+-----------------------+\n",
      "|review_id                       |order_id                        |review_score|review_comment_title|review_comment_message|review_creation_date|review_answer_timestamp|\n",
      "+--------------------------------+--------------------------------+------------+--------------------+----------------------+--------------------+-----------------------+\n",
      "|c444278834184f72b1484dfe47de7f97|df56136b8031ecd28e200bb18e6ddb2e|5           |null                |null                  |2017-02-08 00:00:00 |2017-02-14 13:58:48    |\n",
      "|72a1098d5b410ae50fbc0509d26daeb9|df56136b8031ecd28e200bb18e6ddb2e|5           |null                |null                  |2017-02-07 00:00:00 |2017-02-10 10:46:09    |\n",
      "|44f3e54834d23c5570c1d010824d4d59|df56136b8031ecd28e200bb18e6ddb2e|5           |null                |null                  |2017-02-09 00:00:00 |2017-02-09 09:07:28    |\n",
      "+--------------------------------+--------------------------------+------------+--------------------+----------------------+--------------------+-----------------------+\n",
      "\n"
     ]
    }
   ],
   "source": [
    "spark.sql('''\n",
    "      SELECT * FROM order_reviews\n",
    "      where order_id ='df56136b8031ecd28e200bb18e6ddb2e';\n",
    "''').show(truncate=False)"
   ]
  },
  {
   "cell_type": "code",
   "execution_count": 487,
   "metadata": {},
   "outputs": [
    {
     "name": "stdout",
     "output_type": "stream",
     "text": [
      "+---------------------------+------------------+-------------------+----------------+-----------------+\n",
      "|geolocation_zip_code_prefix|geolocation_lat   |geolocation_lng    |geolocation_city|geolocation_state|\n",
      "+---------------------------+------------------+-------------------+----------------+-----------------+\n",
      "|4011                       |-23.57870736918802|-46.645778615462866|sao paulo       |AC               |\n",
      "|4011                       |-23.57870736918802|-46.645778615462866|são paulo       |SP               |\n",
      "|4011                       |-23.57870736918802|-46.645778615462866|sao paulo       |SP               |\n",
      "+---------------------------+------------------+-------------------+----------------+-----------------+\n",
      "\n"
     ]
    }
   ],
   "source": [
    "spark.sql('''\n",
    "      SELECT * FROM geolocation\n",
    "      where geolocation_lat='-23.57870736918802';\n",
    "''').show(truncate=False)"
   ]
  },
  {
   "cell_type": "code",
   "execution_count": 488,
   "metadata": {},
   "outputs": [
    {
     "name": "stdout",
     "output_type": "stream",
     "text": [
      "+--------------------------------+--------------------------------+------------------------+-------------+--------------+\n",
      "|customer_id                     |customer_unique_id              |customer_zip_code_prefix|customer_city|customer_state|\n",
      "+--------------------------------+--------------------------------+------------------------+-------------+--------------+\n",
      "|1bd3585471932167ab72a84955ebefea|8d50f5eadf50201ccdcedfb9e2ac8455|4045                    |sao paulo    |SP            |\n",
      "|a8fabc805e9a10a3c93ae5bff642b86b|8d50f5eadf50201ccdcedfb9e2ac8455|4045                    |sao paulo    |SP            |\n",
      "|897b7f72042714efaa64ac306ba0cafc|8d50f5eadf50201ccdcedfb9e2ac8455|4045                    |sao paulo    |SP            |\n",
      "|b2b13de0770e06de50080fea77c459e6|8d50f5eadf50201ccdcedfb9e2ac8455|4045                    |sao paulo    |SP            |\n",
      "|42dbc1ad9d560637c9c4c1533746f86d|8d50f5eadf50201ccdcedfb9e2ac8455|4045                    |sao paulo    |SP            |\n",
      "|dfb941d6f7b02f57a44c3b7c3fefb44b|8d50f5eadf50201ccdcedfb9e2ac8455|4045                    |sao paulo    |SP            |\n",
      "|65f9db9dd07a4e79b625effa4c868fcb|8d50f5eadf50201ccdcedfb9e2ac8455|4045                    |sao paulo    |SP            |\n",
      "|1c62b48fb34ee043310dcb233caabd2e|8d50f5eadf50201ccdcedfb9e2ac8455|4045                    |sao paulo    |SP            |\n",
      "|a682769c4bc10fc6ef2101337a6c83c9|8d50f5eadf50201ccdcedfb9e2ac8455|4045                    |sao paulo    |SP            |\n",
      "|6289b75219d757a56c0cce8d9e427900|8d50f5eadf50201ccdcedfb9e2ac8455|4045                    |sao paulo    |SP            |\n",
      "|3414a9c813e3ca02504b8be8b2deb27f|8d50f5eadf50201ccdcedfb9e2ac8455|4045                    |sao paulo    |SP            |\n",
      "|0e4fdc084a6b9329ed55d62dcd653ccf|8d50f5eadf50201ccdcedfb9e2ac8455|4045                    |sao paulo    |SP            |\n",
      "|f5188d99e9281e214a4a7d1b139a8229|8d50f5eadf50201ccdcedfb9e2ac8455|4045                    |sao paulo    |SP            |\n",
      "|89be66634d68fa73a95499b6352e085d|8d50f5eadf50201ccdcedfb9e2ac8455|4045                    |sao paulo    |SP            |\n",
      "|0bf8bf19944a7f8b40ba86fef778ca7c|8d50f5eadf50201ccdcedfb9e2ac8455|4045                    |sao paulo    |SP            |\n",
      "|9a1afef458843a022e431f4cb304dfe9|8d50f5eadf50201ccdcedfb9e2ac8455|4045                    |sao paulo    |SP            |\n",
      "|31dd055624c66f291578297a551a6cdf|8d50f5eadf50201ccdcedfb9e2ac8455|4045                    |sao paulo    |SP            |\n",
      "+--------------------------------+--------------------------------+------------------------+-------------+--------------+\n",
      "\n"
     ]
    }
   ],
   "source": [
    "spark.sql('''\n",
    "      SELECT * FROM customers \n",
    "      WHERE customer_unique_id='8d50f5eadf50201ccdcedfb9e2ac8455';\n",
    "''').show(truncate=False)"
   ]
  },
  {
   "cell_type": "code",
   "execution_count": 489,
   "metadata": {},
   "outputs": [
    {
     "name": "stdout",
     "output_type": "stream",
     "text": [
      "+--------------------------------+--------------------------------+------------+-----------------------+------------------------------------------------------------------------------------------------------------------------------------------------------------------------------+--------------------+-----------------------+\n",
      "|review_id                       |order_id                        |review_score|review_comment_title   |review_comment_message                                                                                                                                                        |review_creation_date|review_answer_timestamp|\n",
      "+--------------------------------+--------------------------------+------------+-----------------------+------------------------------------------------------------------------------------------------------------------------------------------------------------------------------+--------------------+-----------------------+\n",
      "|7bc2406110b926393aa56f80a40eba40|73fc7af87114b39712e6da79b0a377eb|4           |null                   |null                                                                                                                                                                          |2018-01-18 00:00:00 |2018-01-18 21:46:59    |\n",
      "|80e641a11e56f04c1ad469d5645fdfde|a548910a1c6147796b98fdf73dbeba33|5           |null                   |null                                                                                                                                                                          |2018-03-10 00:00:00 |2018-03-11 03:05:13    |\n",
      "|228ce5500dc1d8e020d8d1322874b6f0|f9e4b658b201a9f2ecdecbb34bed034b|5           |null                   |null                                                                                                                                                                          |2018-02-17 00:00:00 |2018-02-18 14:36:24    |\n",
      "|e64fb393e7b32834bb789ff8bb30750e|658677c97b385a9be170737859d3511b|5           |null                   |Recebi bem antes do prazo estipulado.                                                                                                                                         |2017-04-21 00:00:00 |2017-04-21 22:02:06    |\n",
      "|f7c4243c7fe1938f181bec41a392bdeb|8e6bfb81e283fa7e4f11123a3fb894f1|5           |null                   |Parabéns lojas lannister adorei comprar pela Internet seguro e prático Parabéns a todos feliz Páscoa                                                                          |2018-03-01 00:00:00 |2018-03-02 10:26:53    |\n",
      "|15197aa66ff4d0650b5434f1b46cda19|b18dcdf73be66366873cd26c5724d1dc|1           |null                   |null                                                                                                                                                                          |2018-04-13 00:00:00 |2018-04-16 00:39:37    |\n",
      "|07f9bee5d1b850860defd761afa7ff16|e48aa0d2dcec3a2e87348811bcfdf22b|5           |null                   |null                                                                                                                                                                          |2017-07-16 00:00:00 |2017-07-18 19:30:34    |\n",
      "|7c6400515c67679fbee952a7525281ef|c31a859e34e3adac22f376954e19b39d|5           |null                   |null                                                                                                                                                                          |2018-08-14 00:00:00 |2018-08-14 21:36:06    |\n",
      "|a3f6f7f6f433de0aefbb97da197c554c|9c214ac970e84273583ab523dfafd09b|5           |null                   |null                                                                                                                                                                          |2017-05-17 00:00:00 |2017-05-18 12:05:37    |\n",
      "|8670d52e15e00043ae7de4c01cc2fe06|b9bf720beb4ab3728760088589c62129|4           |recomendo              |aparelho eficiente. no site a marca do aparelho esta impresso como 3desinfector e ao chegar esta com outro nome...atualizar com a marca correta uma vez que é o mesmo aparelho|2018-05-22 00:00:00 |2018-05-23 16:45:47    |\n",
      "|c9cfd2d5ab5911836ababae136c3a10c|cdf9aa68e72324eeb25c7de974696ee2|5           |null                   |null                                                                                                                                                                          |2017-12-23 00:00:00 |2017-12-26 14:36:03    |\n",
      "|96052551d87e5f62e6c9f6974ec392e9|3d374c9e46530bb5ed4a7648915306a6|5           |null                   |null                                                                                                                                                                          |2017-12-19 00:00:00 |2017-12-20 10:25:22    |\n",
      "|4b49719c8a200003f700d3d986ea1a19|9d6f15f95d01e79bd1349cc208361f09|4           |null                   |Mas um pouco ,travando...pelo valor ta Boa.\\n                                                                                                                                 |2018-02-16 00:00:00 |2018-02-20 10:52:22    |\n",
      "|23f75a37effc35d9a915b4e1ad483793|2eaf8e099d871cd5c22b83b5ea8f6e0e|4           |null                   |null                                                                                                                                                                          |2018-03-28 00:00:00 |2018-03-30 15:10:55    |\n",
      "|9a0abbb668bafb95a6d2b05db43284c4|d7bd0e4afdf94846eb73642b4e3e75c3|3           |null                   |null                                                                                                                                                                          |2017-04-30 00:00:00 |2017-05-03 00:02:22    |\n",
      "|3948b09f7c818e2d86c9a546758b2335|e51478e7e277a83743b6f9991dbfa3fb|5           |Super recomendo        |Vendedor confiável, produto ok e entrega antes do prazo.                                                                                                                      |2018-05-23 00:00:00 |2018-05-24 03:00:01    |\n",
      "|9314d6f9799f5bfba510cc7bcd468c01|0dacf04c5ad59fd5a0cc1faa07c34e39|2           |null                   |GOSTARIA DE SABER O QUE HOUVE, SEMPRE RECEBI E ESSA COMPRA AGORA ME DECPCIONOU                                                                                                |2018-01-18 00:00:00 |2018-01-20 21:25:45    |\n",
      "|8e15a274d95600fa14f8be64e37a0e67|ff1581e08b3011021e7c7de592ddc81e|5           |null                   |null                                                                                                                                                                          |2018-03-24 00:00:00 |2018-03-26 15:58:32    |\n",
      "|fdbdb2629a7cde0f66657acc92084e7f|70a752414a13d09cc1f2b437b914b28e|3           |null                   |null                                                                                                                                                                          |2017-09-29 00:00:00 |2017-10-02 01:12:49    |\n",
      "|373cbeecea8286a2b66c97b1b157ec46|583174fbe37d3d5f0d6661be3aad1786|1           |Não chegou meu produto |Péssimo                                                                                                                                                                       |2018-08-15 00:00:00 |2018-08-15 04:10:37    |\n",
      "|a2ff510ca4e059c3fefc7a7866571f6f|a9953b2f0b1665ac7586cc5a6ac8f58c|4           |null                   |null                                                                                                                                                                          |2017-10-06 00:00:00 |2017-10-08 22:36:05    |\n",
      "|80c70bc263881ba6525f6cee1d94ac87|ae168dfba236919411fe08f336fefa44|5           |null                   |null                                                                                                                                                                          |2018-03-17 00:00:00 |2018-04-04 19:41:11    |\n",
      "|d21bbc789670eab777d27372ab9094cc|4fc44d78867142c627497b60a7e0228a|5           |Ótimo                  |Loja nota 10                                                                                                                                                                  |2018-07-10 00:00:00 |2018-07-11 14:10:25    |\n",
      "|7bcb3c758c67f23638262c731493e848|7c9956750739a47dba7a6928ba2f0245|5           |null                   |null                                                                                                                                                                          |2017-09-09 00:00:00 |2017-10-17 02:25:47    |\n",
      "|0e0190b9db53b689b285d3f3916f8441|79832b7cb59ac6f887088ffd686e1d5e|5           |null                   |obrigado pela atençao amim dispensada                                                                                                                                         |2017-12-01 00:00:00 |2017-12-09 22:58:58    |\n",
      "|66e4430c5bc6b7e3773886bf1c14d912|84cec4f65c7a4f2f54c294a30224a594|5           |null                   |null                                                                                                                                                                          |2017-06-23 00:00:00 |2017-06-27 00:52:02    |\n",
      "|bf566b3910c328733baf7fca7d2be041|a59a15e4b6085c752d338431dc68d464|4           |null                   |null                                                                                                                                                                          |2017-11-01 00:00:00 |2017-11-01 20:25:30    |\n",
      "|fe3db7c069d694bab50cc43463f91608|2ca73e2ff9e3a186ad1e1ffb9b1d9c10|5           |null                   |A compra foi realizada facilmente.\\nA entrega foi efetuada muito antes do prazo dado.\\nO produto já começou a ser usado e até o presente,\\nsem problemas.                     |2018-03-23 00:00:00 |2018-04-01 00:27:51    |\n",
      "|e07eee7ad7666276bd8b27fbd83fd1ff|68b3cbc68e4cd1fe19bec35f1d3bb7ee|5           |null                   |relógio muito bonito e barato.                                                                                                                                                |2018-03-29 00:00:00 |2018-04-02 14:19:31    |\n",
      "|2c5e27fc178bde7ac173c9c62c31b070|0ce9a24111d850192a933fcaab6fbad3|1           |null                   |Não gostei ! Comprei gato por lebre                                                                                                                                           |2017-12-13 00:00:00 |2017-12-16 07:14:07    |\n",
      "+--------------------------------+--------------------------------+------------+-----------------------+------------------------------------------------------------------------------------------------------------------------------------------------------------------------------+--------------------+-----------------------+\n",
      "only showing top 30 rows\n",
      "\n"
     ]
    }
   ],
   "source": [
    "spark.sql('''\n",
    "      SELECT * FROM order_reviews;\n",
    "''').show(30,truncate=False)"
   ]
  },
  {
   "cell_type": "code",
   "execution_count": 490,
   "metadata": {},
   "outputs": [
    {
     "name": "stdout",
     "output_type": "stream",
     "text": [
      "+---------+--------+------------+--------------------+----------------------+--------------------+-----------------------+\n",
      "|review_id|order_id|review_score|review_comment_title|review_comment_message|review_creation_date|review_answer_timestamp|\n",
      "+---------+--------+------------+--------------------+----------------------+--------------------+-----------------------+\n",
      "+---------+--------+------------+--------------------+----------------------+--------------------+-----------------------+\n",
      "\n"
     ]
    }
   ],
   "source": [
    "spark.sql('''\n",
    "      SELECT * FROM order_reviews WHERE order_id IS NULL;\n",
    "''').show(30,truncate=False)"
   ]
  }
 ],
 "metadata": {
  "kernelspec": {
   "display_name": "Python 3",
   "language": "python",
   "name": "python3"
  },
  "language_info": {
   "codemirror_mode": {
    "name": "ipython",
    "version": 3
   },
   "file_extension": ".py",
   "mimetype": "text/x-python",
   "name": "python",
   "nbconvert_exporter": "python",
   "pygments_lexer": "ipython3",
   "version": "3.11.1"
  },
  "orig_nbformat": 4
 },
 "nbformat": 4,
 "nbformat_minor": 2
}
