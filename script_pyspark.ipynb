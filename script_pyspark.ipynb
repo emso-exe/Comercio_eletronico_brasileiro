{
 "cells": [
  {
   "attachments": {},
   "cell_type": "markdown",
   "metadata": {},
   "source": [
    "## Análise de dados: Comércio eletrônico brasileiro\n",
    "\n",
    "Este projeto é composto por um conjunto de dados públicos de comércio eletrônico brasileiro, disponibilizados pelo site Olist, são registros que compõem todo o processo de venda de um produto, da compra, pagamento, entrega e avaliação, além de dados de geolocalização, produtos e vendedores. Estas informações serão tratadas e analisadas, de modo a responder questões de negócio.\n"
   ]
  },
  {
   "attachments": {},
   "cell_type": "markdown",
   "metadata": {},
   "source": [
    "### Importação de bibliotecas"
   ]
  },
  {
   "cell_type": "code",
   "execution_count": 74,
   "metadata": {},
   "outputs": [],
   "source": [
    "from pyspark.sql import SparkSession\n"
   ]
  },
  {
   "attachments": {},
   "cell_type": "markdown",
   "metadata": {},
   "source": [
    "### Criação e iniciação de uma sessão Spark"
   ]
  },
  {
   "cell_type": "code",
   "execution_count": 75,
   "metadata": {},
   "outputs": [
    {
     "data": {
      "text/html": [
       "\n",
       "            <div>\n",
       "                <p><b>SparkSession - in-memory</b></p>\n",
       "                \n",
       "        <div>\n",
       "            <p><b>SparkContext</b></p>\n",
       "\n",
       "            <p><a href=\"http://rootx:4040\">Spark UI</a></p>\n",
       "\n",
       "            <dl>\n",
       "              <dt>Version</dt>\n",
       "                <dd><code>v3.4.0</code></dd>\n",
       "              <dt>Master</dt>\n",
       "                <dd><code>local[*]</code></dd>\n",
       "              <dt>AppName</dt>\n",
       "                <dd><code>PySpark - Olist</code></dd>\n",
       "            </dl>\n",
       "        </div>\n",
       "        \n",
       "            </div>\n",
       "        "
      ],
      "text/plain": [
       "<pyspark.sql.session.SparkSession at 0x1a4a0969690>"
      ]
     },
     "execution_count": 75,
     "metadata": {},
     "output_type": "execute_result"
    }
   ],
   "source": [
    "spark = SparkSession.builder.appName('PySpark - Olist').getOrCreate()\n",
    "spark\n"
   ]
  },
  {
   "attachments": {},
   "cell_type": "markdown",
   "metadata": {},
   "source": [
    "### Criação dos datasets a partir da leitura dos arquivos *.csv\n"
   ]
  },
  {
   "cell_type": "code",
   "execution_count": 76,
   "metadata": {},
   "outputs": [],
   "source": [
    "df_orders = spark.read.csv('dados\\olist_orders_dataset.csv', sep=',', header=True, encoding='utf-8', inferSchema=True)\n",
    "df_customers = spark.read.csv('dados\\olist_customers_dataset.csv', sep=',', header=True, encoding='utf-8', inferSchema=True)\n",
    "df_geolocation = spark.read.csv('dados\\olist_geolocation_dataset.csv', sep=',', header=True, encoding='utf-8', inferSchema=True)\n",
    "df_order_items = spark.read.csv('dados\\olist_order_items_dataset.csv', sep=',', header=True, encoding='utf-8', inferSchema=True)\n",
    "df_order_payments = spark.read.csv('dados\\olist_order_payments_dataset.csv', sep=',', header=True, encoding='utf-8', inferSchema=True)\n",
    "df_order_reviews = spark.read.csv('dados\\olist_order_reviews_dataset.csv', sep=',', header=True, encoding='utf-8', inferSchema=True)\n",
    "df_products = spark.read.csv('dados\\olist_products_dataset.csv', sep=',', header=True, encoding='utf-8', inferSchema=True)\n",
    "df_sellers = spark.read.csv('dados\\olist_sellers_dataset.csv', sep=',', header=True, encoding='utf-8', inferSchema=True)"
   ]
  },
  {
   "attachments": {},
   "cell_type": "markdown",
   "metadata": {},
   "source": [
    "### Verificando os tipos das colunas"
   ]
  },
  {
   "cell_type": "code",
   "execution_count": 77,
   "metadata": {},
   "outputs": [
    {
     "name": "stdout",
     "output_type": "stream",
     "text": [
      "root\n",
      " |-- order_id: string (nullable = true)\n",
      " |-- customer_id: string (nullable = true)\n",
      " |-- order_status: string (nullable = true)\n",
      " |-- order_purchase_timestamp: timestamp (nullable = true)\n",
      " |-- order_approved_at: timestamp (nullable = true)\n",
      " |-- order_delivered_carrier_date: timestamp (nullable = true)\n",
      " |-- order_delivered_customer_date: timestamp (nullable = true)\n",
      " |-- order_estimated_delivery_date: timestamp (nullable = true)\n",
      "\n"
     ]
    }
   ],
   "source": [
    "df_orders.printSchema()"
   ]
  },
  {
   "cell_type": "code",
   "execution_count": 78,
   "metadata": {},
   "outputs": [
    {
     "name": "stdout",
     "output_type": "stream",
     "text": [
      "root\n",
      " |-- customer_id: string (nullable = true)\n",
      " |-- customer_unique_id: string (nullable = true)\n",
      " |-- customer_zip_code_prefix: integer (nullable = true)\n",
      " |-- customer_city: string (nullable = true)\n",
      " |-- customer_state: string (nullable = true)\n",
      "\n"
     ]
    }
   ],
   "source": [
    "df_customers.printSchema()"
   ]
  },
  {
   "cell_type": "code",
   "execution_count": 79,
   "metadata": {},
   "outputs": [
    {
     "name": "stdout",
     "output_type": "stream",
     "text": [
      "root\n",
      " |-- geolocation_zip_code_prefix: integer (nullable = true)\n",
      " |-- geolocation_lat: double (nullable = true)\n",
      " |-- geolocation_lng: double (nullable = true)\n",
      " |-- geolocation_city: string (nullable = true)\n",
      " |-- geolocation_state: string (nullable = true)\n",
      "\n"
     ]
    }
   ],
   "source": [
    "df_geolocation.printSchema()"
   ]
  },
  {
   "cell_type": "code",
   "execution_count": 80,
   "metadata": {},
   "outputs": [
    {
     "name": "stdout",
     "output_type": "stream",
     "text": [
      "root\n",
      " |-- order_id: string (nullable = true)\n",
      " |-- order_item_id: integer (nullable = true)\n",
      " |-- product_id: string (nullable = true)\n",
      " |-- seller_id: string (nullable = true)\n",
      " |-- shipping_limit_date: timestamp (nullable = true)\n",
      " |-- price: double (nullable = true)\n",
      " |-- freight_value: double (nullable = true)\n",
      "\n"
     ]
    }
   ],
   "source": [
    "df_order_items.printSchema()"
   ]
  },
  {
   "cell_type": "code",
   "execution_count": 81,
   "metadata": {},
   "outputs": [
    {
     "name": "stdout",
     "output_type": "stream",
     "text": [
      "root\n",
      " |-- order_id: string (nullable = true)\n",
      " |-- payment_sequential: integer (nullable = true)\n",
      " |-- payment_type: string (nullable = true)\n",
      " |-- payment_installments: integer (nullable = true)\n",
      " |-- payment_value: double (nullable = true)\n",
      "\n"
     ]
    }
   ],
   "source": [
    "df_order_payments.printSchema()"
   ]
  },
  {
   "cell_type": "code",
   "execution_count": 82,
   "metadata": {},
   "outputs": [
    {
     "name": "stdout",
     "output_type": "stream",
     "text": [
      "root\n",
      " |-- review_id: string (nullable = true)\n",
      " |-- order_id: string (nullable = true)\n",
      " |-- review_score: string (nullable = true)\n",
      " |-- review_comment_title: string (nullable = true)\n",
      " |-- review_comment_message: string (nullable = true)\n",
      " |-- review_creation_date: string (nullable = true)\n",
      " |-- review_answer_timestamp: string (nullable = true)\n",
      "\n"
     ]
    }
   ],
   "source": [
    "df_order_reviews.printSchema()"
   ]
  },
  {
   "cell_type": "code",
   "execution_count": 83,
   "metadata": {},
   "outputs": [
    {
     "name": "stdout",
     "output_type": "stream",
     "text": [
      "root\n",
      " |-- product_id: string (nullable = true)\n",
      " |-- product_category_name: string (nullable = true)\n",
      " |-- product_name_lenght: integer (nullable = true)\n",
      " |-- product_description_lenght: integer (nullable = true)\n",
      " |-- product_photos_qty: integer (nullable = true)\n",
      " |-- product_weight_g: integer (nullable = true)\n",
      " |-- product_length_cm: integer (nullable = true)\n",
      " |-- product_height_cm: integer (nullable = true)\n",
      " |-- product_width_cm: integer (nullable = true)\n",
      "\n"
     ]
    }
   ],
   "source": [
    "df_products.printSchema()"
   ]
  },
  {
   "cell_type": "code",
   "execution_count": 84,
   "metadata": {},
   "outputs": [
    {
     "name": "stdout",
     "output_type": "stream",
     "text": [
      "root\n",
      " |-- seller_id: string (nullable = true)\n",
      " |-- seller_zip_code_prefix: integer (nullable = true)\n",
      " |-- seller_city: string (nullable = true)\n",
      " |-- seller_state: string (nullable = true)\n",
      "\n"
     ]
    }
   ],
   "source": [
    "df_sellers.printSchema()"
   ]
  },
  {
   "attachments": {},
   "cell_type": "markdown",
   "metadata": {},
   "source": [
    "### Verificando a existência de registros nulos"
   ]
  },
  {
   "cell_type": "code",
   "execution_count": 85,
   "metadata": {},
   "outputs": [],
   "source": [
    "def check_nulls(dataframe, name):\n",
    "    print('-'*100)\n",
    "    print(name.upper(), '\\n')\n",
    "    for coluna in dataframe.columns:\n",
    "        print(coluna, dataframe.filter(\n",
    "            dataframe[coluna].isNull()).count())\n"
   ]
  },
  {
   "cell_type": "code",
   "execution_count": 88,
   "metadata": {},
   "outputs": [
    {
     "name": "stdout",
     "output_type": "stream",
     "text": [
      "----------------------------------------------------------------------------------------------------\n",
      "DF_ORDERS \n",
      "\n",
      "order_id 0\n",
      "customer_id 0\n",
      "order_status 0\n",
      "order_purchase_timestamp 0\n",
      "order_approved_at 160\n",
      "order_delivered_carrier_date 1783\n",
      "order_delivered_customer_date 2965\n",
      "order_estimated_delivery_date 0\n",
      "----------------------------------------------------------------------------------------------------\n",
      "DF_CUSTOMERS \n",
      "\n",
      "customer_id 0\n",
      "customer_unique_id 0\n",
      "customer_zip_code_prefix 0\n",
      "customer_city 0\n",
      "customer_state 0\n",
      "----------------------------------------------------------------------------------------------------\n",
      "DF_GEOLOCATION \n",
      "\n",
      "geolocation_zip_code_prefix 0\n",
      "geolocation_lat 0\n",
      "geolocation_lng 0\n",
      "geolocation_city 0\n",
      "geolocation_state 0\n",
      "----------------------------------------------------------------------------------------------------\n",
      "DF_ORDER_ITEMS \n",
      "\n",
      "order_id 0\n",
      "order_item_id 0\n",
      "product_id 0\n",
      "seller_id 0\n",
      "shipping_limit_date 0\n",
      "price 0\n",
      "freight_value 0\n",
      "----------------------------------------------------------------------------------------------------\n",
      "DF_ORDER_PAYMENTS \n",
      "\n",
      "order_id 0\n",
      "payment_sequential 0\n",
      "payment_type 0\n",
      "payment_installments 0\n",
      "payment_value 0\n",
      "----------------------------------------------------------------------------------------------------\n",
      "DF_ORDER_REVIEWS \n",
      "\n",
      "review_id 1\n",
      "order_id 2236\n",
      "review_score 2380\n",
      "review_comment_title 92157\n",
      "review_comment_message 63079\n",
      "review_creation_date 8764\n",
      "review_answer_timestamp 8785\n",
      "----------------------------------------------------------------------------------------------------\n",
      "DF_PRODUCTS \n",
      "\n",
      "product_id 0\n",
      "product_category_name 610\n",
      "product_name_lenght 610\n",
      "product_description_lenght 610\n",
      "product_photos_qty 610\n",
      "product_weight_g 2\n",
      "product_length_cm 2\n",
      "product_height_cm 2\n",
      "product_width_cm 2\n",
      "----------------------------------------------------------------------------------------------------\n",
      "DF_SELLERS \n",
      "\n",
      "seller_id 0\n",
      "seller_zip_code_prefix 0\n",
      "seller_city 0\n",
      "seller_state 0\n"
     ]
    }
   ],
   "source": [
    "check_nulls(df_orders, 'df_orders')\n",
    "check_nulls(df_customers, 'df_customers')\n",
    "check_nulls(df_geolocation, 'df_geolocation')\n",
    "check_nulls(df_order_items, 'df_order_items')\n",
    "check_nulls(df_order_payments, 'df_order_payments')\n",
    "check_nulls(df_order_reviews, 'df_order_reviews')\n",
    "check_nulls(df_products, 'df_products')\n",
    "check_nulls(df_sellers, 'df_sellers')\n"
   ]
  },
  {
   "attachments": {},
   "cell_type": "markdown",
   "metadata": {},
   "source": [
    "Foram identificados valores nulos em 3 dataframes, df_orders, df_order_reviews e df_products, entretando dos dados representam operações de venda, logo possui vários estágios podendo ser uma venda concluída, cancelada, processamento ou mesmo em trânsito, ou seja, dependendo do estágio algumas colunas podem ficarem vazias (nulas)."
   ]
  },
  {
   "attachments": {},
   "cell_type": "markdown",
   "metadata": {},
   "source": [
    "### Criando views temporárias para uso do Spark SQL"
   ]
  },
  {
   "cell_type": "code",
   "execution_count": 89,
   "metadata": {},
   "outputs": [],
   "source": [
    "df_orders.createOrReplaceTempView('orders')\n",
    "df_customers.createOrReplaceTempView('customers')\n",
    "df_geolocation.createOrReplaceTempView('geolocation')\n",
    "df_order_items.createOrReplaceTempView('order_items')\n",
    "df_order_payments.createOrReplaceTempView('order_payments')\n",
    "df_order_reviews.createOrReplaceTempView('order_reviews')\n",
    "df_products.createOrReplaceTempView('products')\n",
    "df_sellers.createOrReplaceTempView('sellers')\n"
   ]
  }
 ],
 "metadata": {
  "kernelspec": {
   "display_name": "Python 3",
   "language": "python",
   "name": "python3"
  },
  "language_info": {
   "codemirror_mode": {
    "name": "ipython",
    "version": 3
   },
   "file_extension": ".py",
   "mimetype": "text/x-python",
   "name": "python",
   "nbconvert_exporter": "python",
   "pygments_lexer": "ipython3",
   "version": "3.11.1"
  },
  "orig_nbformat": 4
 },
 "nbformat": 4,
 "nbformat_minor": 2
}
